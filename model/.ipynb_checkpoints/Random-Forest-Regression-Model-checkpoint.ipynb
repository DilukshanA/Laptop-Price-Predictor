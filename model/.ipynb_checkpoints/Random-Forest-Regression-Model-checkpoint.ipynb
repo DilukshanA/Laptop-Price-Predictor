{
 "cells": [
  {
   "cell_type": "code",
   "execution_count": 1,
   "metadata": {
    "_cell_guid": "b1076dfc-b9ad-4769-8c92-a6c4dae69d19",
    "_uuid": "8f2839f25d086af736a60e9eeb907d3b93b6e0e5",
    "execution": {
     "iopub.execute_input": "2024-10-13T05:39:48.802262Z",
     "iopub.status.busy": "2024-10-13T05:39:48.801690Z",
     "iopub.status.idle": "2024-10-13T05:39:48.809483Z",
     "shell.execute_reply": "2024-10-13T05:39:48.807676Z",
     "shell.execute_reply.started": "2024-10-13T05:39:48.802216Z"
    },
    "trusted": true
   },
   "outputs": [],
   "source": [
    "import numpy as np\n",
    "import pandas as pd\n",
    "import seaborn as sns\n",
    "import matplotlib.pyplot as plt"
   ]
  },
  {
   "cell_type": "markdown",
   "metadata": {},
   "source": [
    "## Importing the data"
   ]
  },
  {
   "cell_type": "code",
   "execution_count": 9,
   "metadata": {
    "execution": {
     "iopub.execute_input": "2024-10-13T05:39:48.887801Z",
     "iopub.status.busy": "2024-10-13T05:39:48.887256Z",
     "iopub.status.idle": "2024-10-13T05:39:48.950895Z",
     "shell.execute_reply": "2024-10-13T05:39:48.949570Z",
     "shell.execute_reply.started": "2024-10-13T05:39:48.887750Z"
    },
    "trusted": true
   },
   "outputs": [
    {
     "name": "stderr",
     "output_type": "stream",
     "text": [
      "<>:1: SyntaxWarning: invalid escape sequence '\\l'\n",
      "<>:1: SyntaxWarning: invalid escape sequence '\\l'\n",
      "C:\\Users\\ASUS\\AppData\\Local\\Temp\\ipykernel_14292\\3809960980.py:1: SyntaxWarning: invalid escape sequence '\\l'\n",
      "  df = pd.read_csv('F:\\laptopPrice.csv')\n"
     ]
    }
   ],
   "source": [
    "df = pd.read_csv('F:\\laptopPrice.csv')"
   ]
  },
  {
   "cell_type": "code",
   "execution_count": 11,
   "metadata": {
    "execution": {
     "iopub.execute_input": "2024-10-13T05:39:48.953458Z",
     "iopub.status.busy": "2024-10-13T05:39:48.953008Z",
     "iopub.status.idle": "2024-10-13T05:39:48.982965Z",
     "shell.execute_reply": "2024-10-13T05:39:48.981517Z",
     "shell.execute_reply.started": "2024-10-13T05:39:48.953414Z"
    },
    "trusted": true
   },
   "outputs": [
    {
     "data": {
      "text/html": [
       "<div>\n",
       "<style scoped>\n",
       "    .dataframe tbody tr th:only-of-type {\n",
       "        vertical-align: middle;\n",
       "    }\n",
       "\n",
       "    .dataframe tbody tr th {\n",
       "        vertical-align: top;\n",
       "    }\n",
       "\n",
       "    .dataframe thead th {\n",
       "        text-align: right;\n",
       "    }\n",
       "</style>\n",
       "<table border=\"1\" class=\"dataframe\">\n",
       "  <thead>\n",
       "    <tr style=\"text-align: right;\">\n",
       "      <th></th>\n",
       "      <th>brand</th>\n",
       "      <th>processor_brand</th>\n",
       "      <th>processor_name</th>\n",
       "      <th>processor_gnrtn</th>\n",
       "      <th>ram_gb</th>\n",
       "      <th>ram_type</th>\n",
       "      <th>ssd</th>\n",
       "      <th>hdd</th>\n",
       "      <th>os</th>\n",
       "      <th>os_bit</th>\n",
       "      <th>graphic_card_gb</th>\n",
       "      <th>weight</th>\n",
       "      <th>warranty</th>\n",
       "      <th>Touchscreen</th>\n",
       "      <th>msoffice</th>\n",
       "      <th>Price</th>\n",
       "      <th>rating</th>\n",
       "      <th>Number of Ratings</th>\n",
       "      <th>Number of Reviews</th>\n",
       "    </tr>\n",
       "  </thead>\n",
       "  <tbody>\n",
       "    <tr>\n",
       "      <th>0</th>\n",
       "      <td>ASUS</td>\n",
       "      <td>Intel</td>\n",
       "      <td>Core i3</td>\n",
       "      <td>10th</td>\n",
       "      <td>4 GB</td>\n",
       "      <td>DDR4</td>\n",
       "      <td>0 GB</td>\n",
       "      <td>1024 GB</td>\n",
       "      <td>Windows</td>\n",
       "      <td>64-bit</td>\n",
       "      <td>0 GB</td>\n",
       "      <td>Casual</td>\n",
       "      <td>No warranty</td>\n",
       "      <td>No</td>\n",
       "      <td>No</td>\n",
       "      <td>34649</td>\n",
       "      <td>2 stars</td>\n",
       "      <td>3</td>\n",
       "      <td>0</td>\n",
       "    </tr>\n",
       "    <tr>\n",
       "      <th>1</th>\n",
       "      <td>Lenovo</td>\n",
       "      <td>Intel</td>\n",
       "      <td>Core i3</td>\n",
       "      <td>10th</td>\n",
       "      <td>4 GB</td>\n",
       "      <td>DDR4</td>\n",
       "      <td>0 GB</td>\n",
       "      <td>1024 GB</td>\n",
       "      <td>Windows</td>\n",
       "      <td>64-bit</td>\n",
       "      <td>0 GB</td>\n",
       "      <td>Casual</td>\n",
       "      <td>No warranty</td>\n",
       "      <td>No</td>\n",
       "      <td>No</td>\n",
       "      <td>38999</td>\n",
       "      <td>3 stars</td>\n",
       "      <td>65</td>\n",
       "      <td>5</td>\n",
       "    </tr>\n",
       "    <tr>\n",
       "      <th>2</th>\n",
       "      <td>Lenovo</td>\n",
       "      <td>Intel</td>\n",
       "      <td>Core i3</td>\n",
       "      <td>10th</td>\n",
       "      <td>4 GB</td>\n",
       "      <td>DDR4</td>\n",
       "      <td>0 GB</td>\n",
       "      <td>1024 GB</td>\n",
       "      <td>Windows</td>\n",
       "      <td>64-bit</td>\n",
       "      <td>0 GB</td>\n",
       "      <td>Casual</td>\n",
       "      <td>No warranty</td>\n",
       "      <td>No</td>\n",
       "      <td>No</td>\n",
       "      <td>39999</td>\n",
       "      <td>3 stars</td>\n",
       "      <td>8</td>\n",
       "      <td>1</td>\n",
       "    </tr>\n",
       "    <tr>\n",
       "      <th>3</th>\n",
       "      <td>ASUS</td>\n",
       "      <td>Intel</td>\n",
       "      <td>Core i5</td>\n",
       "      <td>10th</td>\n",
       "      <td>8 GB</td>\n",
       "      <td>DDR4</td>\n",
       "      <td>512 GB</td>\n",
       "      <td>0 GB</td>\n",
       "      <td>Windows</td>\n",
       "      <td>32-bit</td>\n",
       "      <td>2 GB</td>\n",
       "      <td>Casual</td>\n",
       "      <td>No warranty</td>\n",
       "      <td>No</td>\n",
       "      <td>No</td>\n",
       "      <td>69990</td>\n",
       "      <td>3 stars</td>\n",
       "      <td>0</td>\n",
       "      <td>0</td>\n",
       "    </tr>\n",
       "    <tr>\n",
       "      <th>4</th>\n",
       "      <td>ASUS</td>\n",
       "      <td>Intel</td>\n",
       "      <td>Celeron Dual</td>\n",
       "      <td>Not Available</td>\n",
       "      <td>4 GB</td>\n",
       "      <td>DDR4</td>\n",
       "      <td>0 GB</td>\n",
       "      <td>512 GB</td>\n",
       "      <td>Windows</td>\n",
       "      <td>64-bit</td>\n",
       "      <td>0 GB</td>\n",
       "      <td>Casual</td>\n",
       "      <td>No warranty</td>\n",
       "      <td>No</td>\n",
       "      <td>No</td>\n",
       "      <td>26990</td>\n",
       "      <td>3 stars</td>\n",
       "      <td>0</td>\n",
       "      <td>0</td>\n",
       "    </tr>\n",
       "    <tr>\n",
       "      <th>5</th>\n",
       "      <td>ASUS</td>\n",
       "      <td>Intel</td>\n",
       "      <td>Celeron Dual</td>\n",
       "      <td>Not Available</td>\n",
       "      <td>4 GB</td>\n",
       "      <td>DDR4</td>\n",
       "      <td>0 GB</td>\n",
       "      <td>512 GB</td>\n",
       "      <td>Windows</td>\n",
       "      <td>64-bit</td>\n",
       "      <td>0 GB</td>\n",
       "      <td>Casual</td>\n",
       "      <td>No warranty</td>\n",
       "      <td>No</td>\n",
       "      <td>No</td>\n",
       "      <td>22990</td>\n",
       "      <td>3 stars</td>\n",
       "      <td>0</td>\n",
       "      <td>0</td>\n",
       "    </tr>\n",
       "    <tr>\n",
       "      <th>6</th>\n",
       "      <td>ASUS</td>\n",
       "      <td>Intel</td>\n",
       "      <td>Celeron Dual</td>\n",
       "      <td>Not Available</td>\n",
       "      <td>4 GB</td>\n",
       "      <td>DDR4</td>\n",
       "      <td>0 GB</td>\n",
       "      <td>512 GB</td>\n",
       "      <td>Windows</td>\n",
       "      <td>32-bit</td>\n",
       "      <td>0 GB</td>\n",
       "      <td>Casual</td>\n",
       "      <td>No warranty</td>\n",
       "      <td>No</td>\n",
       "      <td>No</td>\n",
       "      <td>21990</td>\n",
       "      <td>3 stars</td>\n",
       "      <td>31</td>\n",
       "      <td>3</td>\n",
       "    </tr>\n",
       "    <tr>\n",
       "      <th>7</th>\n",
       "      <td>ASUS</td>\n",
       "      <td>Intel</td>\n",
       "      <td>Core i5</td>\n",
       "      <td>10th</td>\n",
       "      <td>8 GB</td>\n",
       "      <td>DDR4</td>\n",
       "      <td>0 GB</td>\n",
       "      <td>1024 GB</td>\n",
       "      <td>Windows</td>\n",
       "      <td>32-bit</td>\n",
       "      <td>2 GB</td>\n",
       "      <td>Casual</td>\n",
       "      <td>No warranty</td>\n",
       "      <td>No</td>\n",
       "      <td>No</td>\n",
       "      <td>58799</td>\n",
       "      <td>3 stars</td>\n",
       "      <td>0</td>\n",
       "      <td>0</td>\n",
       "    </tr>\n",
       "    <tr>\n",
       "      <th>8</th>\n",
       "      <td>Lenovo</td>\n",
       "      <td>Intel</td>\n",
       "      <td>Core i5</td>\n",
       "      <td>10th</td>\n",
       "      <td>4 GB</td>\n",
       "      <td>DDR4</td>\n",
       "      <td>0 GB</td>\n",
       "      <td>1024 GB</td>\n",
       "      <td>Windows</td>\n",
       "      <td>32-bit</td>\n",
       "      <td>0 GB</td>\n",
       "      <td>Casual</td>\n",
       "      <td>No warranty</td>\n",
       "      <td>No</td>\n",
       "      <td>No</td>\n",
       "      <td>49999</td>\n",
       "      <td>3 stars</td>\n",
       "      <td>0</td>\n",
       "      <td>0</td>\n",
       "    </tr>\n",
       "    <tr>\n",
       "      <th>9</th>\n",
       "      <td>acer</td>\n",
       "      <td>AMD</td>\n",
       "      <td>Ryzen 5</td>\n",
       "      <td>10th</td>\n",
       "      <td>4 GB</td>\n",
       "      <td>DDR4</td>\n",
       "      <td>0 GB</td>\n",
       "      <td>512 GB</td>\n",
       "      <td>Windows</td>\n",
       "      <td>32-bit</td>\n",
       "      <td>4 GB</td>\n",
       "      <td>Casual</td>\n",
       "      <td>No warranty</td>\n",
       "      <td>No</td>\n",
       "      <td>No</td>\n",
       "      <td>59990</td>\n",
       "      <td>4 stars</td>\n",
       "      <td>1946</td>\n",
       "      <td>240</td>\n",
       "    </tr>\n",
       "  </tbody>\n",
       "</table>\n",
       "</div>"
      ],
      "text/plain": [
       "    brand processor_brand processor_name processor_gnrtn ram_gb ram_type  \\\n",
       "0    ASUS           Intel        Core i3            10th   4 GB     DDR4   \n",
       "1  Lenovo           Intel        Core i3            10th   4 GB     DDR4   \n",
       "2  Lenovo           Intel        Core i3            10th   4 GB     DDR4   \n",
       "3    ASUS           Intel        Core i5            10th   8 GB     DDR4   \n",
       "4    ASUS           Intel   Celeron Dual   Not Available   4 GB     DDR4   \n",
       "5    ASUS           Intel   Celeron Dual   Not Available   4 GB     DDR4   \n",
       "6    ASUS           Intel   Celeron Dual   Not Available   4 GB     DDR4   \n",
       "7    ASUS           Intel        Core i5            10th   8 GB     DDR4   \n",
       "8  Lenovo           Intel        Core i5            10th   4 GB     DDR4   \n",
       "9    acer             AMD        Ryzen 5            10th   4 GB     DDR4   \n",
       "\n",
       "      ssd      hdd       os  os_bit graphic_card_gb  weight     warranty  \\\n",
       "0    0 GB  1024 GB  Windows  64-bit            0 GB  Casual  No warranty   \n",
       "1    0 GB  1024 GB  Windows  64-bit            0 GB  Casual  No warranty   \n",
       "2    0 GB  1024 GB  Windows  64-bit            0 GB  Casual  No warranty   \n",
       "3  512 GB     0 GB  Windows  32-bit            2 GB  Casual  No warranty   \n",
       "4    0 GB   512 GB  Windows  64-bit            0 GB  Casual  No warranty   \n",
       "5    0 GB   512 GB  Windows  64-bit            0 GB  Casual  No warranty   \n",
       "6    0 GB   512 GB  Windows  32-bit            0 GB  Casual  No warranty   \n",
       "7    0 GB  1024 GB  Windows  32-bit            2 GB  Casual  No warranty   \n",
       "8    0 GB  1024 GB  Windows  32-bit            0 GB  Casual  No warranty   \n",
       "9    0 GB   512 GB  Windows  32-bit            4 GB  Casual  No warranty   \n",
       "\n",
       "  Touchscreen msoffice  Price   rating  Number of Ratings  Number of Reviews  \n",
       "0          No       No  34649  2 stars                  3                  0  \n",
       "1          No       No  38999  3 stars                 65                  5  \n",
       "2          No       No  39999  3 stars                  8                  1  \n",
       "3          No       No  69990  3 stars                  0                  0  \n",
       "4          No       No  26990  3 stars                  0                  0  \n",
       "5          No       No  22990  3 stars                  0                  0  \n",
       "6          No       No  21990  3 stars                 31                  3  \n",
       "7          No       No  58799  3 stars                  0                  0  \n",
       "8          No       No  49999  3 stars                  0                  0  \n",
       "9          No       No  59990  4 stars               1946                240  "
      ]
     },
     "execution_count": 11,
     "metadata": {},
     "output_type": "execute_result"
    }
   ],
   "source": [
    "df.head(10)"
   ]
  },
  {
   "cell_type": "code",
   "execution_count": 12,
   "metadata": {
    "execution": {
     "iopub.execute_input": "2024-10-13T05:39:49.009335Z",
     "iopub.status.busy": "2024-10-13T05:39:49.008076Z",
     "iopub.status.idle": "2024-10-13T05:39:49.025700Z",
     "shell.execute_reply": "2024-10-13T05:39:49.024079Z",
     "shell.execute_reply.started": "2024-10-13T05:39:49.009281Z"
    },
    "trusted": true
   },
   "outputs": [
    {
     "name": "stdout",
     "output_type": "stream",
     "text": [
      "<class 'pandas.core.frame.DataFrame'>\n",
      "RangeIndex: 823 entries, 0 to 822\n",
      "Data columns (total 19 columns):\n",
      " #   Column             Non-Null Count  Dtype \n",
      "---  ------             --------------  ----- \n",
      " 0   brand              823 non-null    object\n",
      " 1   processor_brand    823 non-null    object\n",
      " 2   processor_name     823 non-null    object\n",
      " 3   processor_gnrtn    823 non-null    object\n",
      " 4   ram_gb             823 non-null    object\n",
      " 5   ram_type           823 non-null    object\n",
      " 6   ssd                823 non-null    object\n",
      " 7   hdd                823 non-null    object\n",
      " 8   os                 823 non-null    object\n",
      " 9   os_bit             823 non-null    object\n",
      " 10  graphic_card_gb    823 non-null    object\n",
      " 11  weight             823 non-null    object\n",
      " 12  warranty           823 non-null    object\n",
      " 13  Touchscreen        823 non-null    object\n",
      " 14  msoffice           823 non-null    object\n",
      " 15  Price              823 non-null    int64 \n",
      " 16  rating             823 non-null    object\n",
      " 17  Number of Ratings  823 non-null    int64 \n",
      " 18  Number of Reviews  823 non-null    int64 \n",
      "dtypes: int64(3), object(16)\n",
      "memory usage: 122.3+ KB\n"
     ]
    }
   ],
   "source": [
    "df.info()"
   ]
  },
  {
   "cell_type": "code",
   "execution_count": 117,
   "metadata": {
    "execution": {
     "iopub.execute_input": "2024-10-13T05:39:49.029102Z",
     "iopub.status.busy": "2024-10-13T05:39:49.028574Z",
     "iopub.status.idle": "2024-10-13T05:39:49.036975Z",
     "shell.execute_reply": "2024-10-13T05:39:49.035744Z",
     "shell.execute_reply.started": "2024-10-13T05:39:49.029047Z"
    },
    "trusted": true
   },
   "outputs": [],
   "source": [
    "df.rename(columns = {'processor_gnrtn':'Generation', 'ram_gb':'RAM'}, inplace = True)"
   ]
  },
  {
   "cell_type": "markdown",
   "metadata": {},
   "source": [
    "## Data Exploration "
   ]
  },
  {
   "cell_type": "markdown",
   "metadata": {},
   "source": [
    "We will be looking at each feature one by one"
   ]
  },
  {
   "cell_type": "code",
   "execution_count": 13,
   "metadata": {
    "execution": {
     "iopub.execute_input": "2024-10-13T05:39:49.039198Z",
     "iopub.status.busy": "2024-10-13T05:39:49.038762Z",
     "iopub.status.idle": "2024-10-13T05:39:49.057481Z",
     "shell.execute_reply": "2024-10-13T05:39:49.055998Z",
     "shell.execute_reply.started": "2024-10-13T05:39:49.039129Z"
    },
    "trusted": true
   },
   "outputs": [
    {
     "data": {
      "text/plain": [
       "brand\n",
       "ASUS      249\n",
       "DELL      151\n",
       "Lenovo    144\n",
       "HP        136\n",
       "acer       51\n",
       "MSI        50\n",
       "APPLE      28\n",
       "Avita      14\n",
       "Name: count, dtype: int64"
      ]
     },
     "execution_count": 13,
     "metadata": {},
     "output_type": "execute_result"
    }
   ],
   "source": [
    "df.brand.value_counts()"
   ]
  },
  {
   "cell_type": "code",
   "execution_count": 14,
   "metadata": {
    "execution": {
     "iopub.execute_input": "2024-10-13T05:39:49.104473Z",
     "iopub.status.busy": "2024-10-13T05:39:49.103106Z",
     "iopub.status.idle": "2024-10-13T05:39:49.642638Z",
     "shell.execute_reply": "2024-10-13T05:39:49.641362Z",
     "shell.execute_reply.started": "2024-10-13T05:39:49.104400Z"
    },
    "trusted": true
   },
   "outputs": [
    {
     "name": "stderr",
     "output_type": "stream",
     "text": [
      "C:\\Users\\ASUS\\AppData\\Local\\Temp\\ipykernel_14292\\3555690613.py:1: FutureWarning: \n",
      "\n",
      "Passing `palette` without assigning `hue` is deprecated and will be removed in v0.14.0. Assign the `x` variable to `hue` and set `legend=False` for the same effect.\n",
      "\n",
      "  sns.barplot(data = df, x = 'brand', y = 'Price', palette = 'magma')\n"
     ]
    },
    {
     "data": {
      "image/png": "[encoded data removed]",
      "text/plain": [
       "<Figure size 640x480 with 1 Axes>"
      ]
     },
     "metadata": {},
     "output_type": "display_data"
    }
   ],
   "source": [
    "sns.barplot(data = df, x = 'brand', y = 'Price', palette = 'magma')\n",
    "plt.xticks(rotation = 'vertical')\n",
    "plt.show()"
   ]
  },
  {
   "cell_type": "code",
   "execution_count": 15,
   "metadata": {
    "execution": {
     "iopub.execute_input": "2024-10-13T05:39:49.646843Z",
     "iopub.status.busy": "2024-10-13T05:39:49.645727Z",
     "iopub.status.idle": "2024-10-13T05:39:49.656652Z",
     "shell.execute_reply": "2024-10-13T05:39:49.655270Z",
     "shell.execute_reply.started": "2024-10-13T05:39:49.646791Z"
    },
    "trusted": true
   },
   "outputs": [
    {
     "data": {
      "text/plain": [
       "processor_brand\n",
       "Intel    610\n",
       "AMD      189\n",
       "M1        24\n",
       "Name: count, dtype: int64"
      ]
     },
     "execution_count": 15,
     "metadata": {},
     "output_type": "execute_result"
    }
   ],
   "source": [
    "df.processor_brand.value_counts()"
   ]
  },
  {
   "cell_type": "code",
   "execution_count": 17,
   "metadata": {
    "execution": {
     "iopub.execute_input": "2024-10-13T05:39:49.659426Z",
     "iopub.status.busy": "2024-10-13T05:39:49.658826Z",
     "iopub.status.idle": "2024-10-13T05:39:50.002222Z",
     "shell.execute_reply": "2024-10-13T05:39:50.000948Z",
     "shell.execute_reply.started": "2024-10-13T05:39:49.659364Z"
    },
    "trusted": true
   },
   "outputs": [
    {
     "data": {
      "image/png": "[encoded data removed]",
      "text/plain": [
       "<Figure size 640x480 with 1 Axes>"
      ]
     },
     "metadata": {},
     "output_type": "display_data"
    }
   ],
   "source": [
    "sns.barplot(data = df, x = 'processor_brand', y = 'Price')\n",
    "plt.show()"
   ]
  },
  {
   "cell_type": "code",
   "execution_count": 18,
   "metadata": {
    "execution": {
     "iopub.execute_input": "2024-10-13T05:39:50.005215Z",
     "iopub.status.busy": "2024-10-13T05:39:50.004710Z",
     "iopub.status.idle": "2024-10-13T05:39:50.015810Z",
     "shell.execute_reply": "2024-10-13T05:39:50.014406Z",
     "shell.execute_reply.started": "2024-10-13T05:39:50.005135Z"
    },
    "trusted": true
   },
   "outputs": [
    {
     "data": {
      "text/plain": [
       "processor_name\n",
       "Core i5         290\n",
       "Core i3         164\n",
       "Core i7         110\n",
       "Ryzen 5          82\n",
       "Ryzen 7          56\n",
       "Ryzen 9          26\n",
       "Ryzen 3          26\n",
       "Celeron Dual     24\n",
       "M1               24\n",
       "Pentium Quad     13\n",
       "Core i9           8\n",
       "Name: count, dtype: int64"
      ]
     },
     "execution_count": 18,
     "metadata": {},
     "output_type": "execute_result"
    }
   ],
   "source": [
    "df.processor_name.value_counts()"
   ]
  },
  {
   "cell_type": "code",
   "execution_count": 19,
   "metadata": {
    "execution": {
     "iopub.execute_input": "2024-10-13T05:39:50.021177Z",
     "iopub.status.busy": "2024-10-13T05:39:50.020584Z",
     "iopub.status.idle": "2024-10-13T05:39:50.686565Z",
     "shell.execute_reply": "2024-10-13T05:39:50.685246Z",
     "shell.execute_reply.started": "2024-10-13T05:39:50.021115Z"
    },
    "trusted": true
   },
   "outputs": [
    {
     "data": {
      "image/png": "[encoded data removed]",
      "text/plain": [
       "<Figure size 640x480 with 1 Axes>"
      ]
     },
     "metadata": {},
     "output_type": "display_data"
    }
   ],
   "source": [
    "sns.barplot(data = df, x = 'processor_name', y = 'Price')\n",
    "plt.xticks(rotation ='vertical')\n",
    "plt.show()"
   ]
  },
  {
   "cell_type": "code",
   "execution_count": 21,
   "metadata": {
    "execution": {
     "iopub.execute_input": "2024-10-13T05:39:50.688462Z",
     "iopub.status.busy": "2024-10-13T05:39:50.688010Z",
     "iopub.status.idle": "2024-10-13T05:39:50.699501Z",
     "shell.execute_reply": "2024-10-13T05:39:50.698053Z",
     "shell.execute_reply.started": "2024-10-13T05:39:50.688408Z"
    },
    "trusted": true
   },
   "outputs": [
    {
     "ename": "AttributeError",
     "evalue": "'DataFrame' object has no attribute 'Generation'",
     "output_type": "error",
     "traceback": [
      "\u001b[1;31m---------------------------------------------------------------------------\u001b[0m",
      "\u001b[1;31mAttributeError\u001b[0m                            Traceback (most recent call last)",
      "\u001b[1;32m~\\AppData\\Local\\Temp\\ipykernel_14292\\2554064958.py\u001b[0m in \u001b[0;36m?\u001b[1;34m()\u001b[0m\n\u001b[1;32m----> 1\u001b[1;33m \u001b[0mdf\u001b[0m\u001b[1;33m.\u001b[0m\u001b[0mGeneration\u001b[0m\u001b[1;33m.\u001b[0m\u001b[0mvalue_counts\u001b[0m\u001b[1;33m(\u001b[0m\u001b[1;33m)\u001b[0m\u001b[1;33m\u001b[0m\u001b[1;33m\u001b[0m\u001b[0m\n\u001b[0m",
      "\u001b[1;32m~\\AppData\\Roaming\\Python\\Python313\\site-packages\\pandas\\core\\generic.py\u001b[0m in \u001b[0;36m?\u001b[1;34m(self, name)\u001b[0m\n\u001b[0;32m   6295\u001b[0m             \u001b[1;32mand\u001b[0m \u001b[0mname\u001b[0m \u001b[1;32mnot\u001b[0m \u001b[1;32min\u001b[0m \u001b[0mself\u001b[0m\u001b[1;33m.\u001b[0m\u001b[0m_accessors\u001b[0m\u001b[1;33m\u001b[0m\u001b[1;33m\u001b[0m\u001b[0m\n\u001b[0;32m   6296\u001b[0m             \u001b[1;32mand\u001b[0m \u001b[0mself\u001b[0m\u001b[1;33m.\u001b[0m\u001b[0m_info_axis\u001b[0m\u001b[1;33m.\u001b[0m\u001b[0m_can_hold_identifiers_and_holds_name\u001b[0m\u001b[1;33m(\u001b[0m\u001b[0mname\u001b[0m\u001b[1;33m)\u001b[0m\u001b[1;33m\u001b[0m\u001b[1;33m\u001b[0m\u001b[0m\n\u001b[0;32m   6297\u001b[0m         \u001b[1;33m)\u001b[0m\u001b[1;33m:\u001b[0m\u001b[1;33m\u001b[0m\u001b[1;33m\u001b[0m\u001b[0m\n\u001b[0;32m   6298\u001b[0m             \u001b[1;32mreturn\u001b[0m \u001b[0mself\u001b[0m\u001b[1;33m[\u001b[0m\u001b[0mname\u001b[0m\u001b[1;33m]\u001b[0m\u001b[1;33m\u001b[0m\u001b[1;33m\u001b[0m\u001b[0m\n\u001b[1;32m-> 6299\u001b[1;33m         \u001b[1;32mreturn\u001b[0m \u001b[0mobject\u001b[0m\u001b[1;33m.\u001b[0m\u001b[0m__getattribute__\u001b[0m\u001b[1;33m(\u001b[0m\u001b[0mself\u001b[0m\u001b[1;33m,\u001b[0m \u001b[0mname\u001b[0m\u001b[1;33m)\u001b[0m\u001b[1;33m\u001b[0m\u001b[1;33m\u001b[0m\u001b[0m\n\u001b[0m",
      "\u001b[1;31mAttributeError\u001b[0m: 'DataFrame' object has no attribute 'Generation'"
     ]
    }
   ],
   "source": [
    "df.Generation.value_counts()"
   ]
  },
  {
   "cell_type": "code",
   "execution_count": 22,
   "metadata": {
    "execution": {
     "iopub.execute_input": "2024-10-13T05:39:50.702010Z",
     "iopub.status.busy": "2024-10-13T05:39:50.701535Z",
     "iopub.status.idle": "2024-10-13T05:39:51.221987Z",
     "shell.execute_reply": "2024-10-13T05:39:51.220551Z",
     "shell.execute_reply.started": "2024-10-13T05:39:50.701950Z"
    },
    "trusted": true
   },
   "outputs": [
    {
     "ename": "ValueError",
     "evalue": "Could not interpret value `Generation` for `x`. An entry with this name does not appear in `data`.",
     "output_type": "error",
     "traceback": [
      "\u001b[1;31m---------------------------------------------------------------------------\u001b[0m",
      "\u001b[1;31mValueError\u001b[0m                                Traceback (most recent call last)",
      "Cell \u001b[1;32mIn[22], line 1\u001b[0m\n\u001b[1;32m----> 1\u001b[0m \u001b[43msns\u001b[49m\u001b[38;5;241;43m.\u001b[39;49m\u001b[43mbarplot\u001b[49m\u001b[43m(\u001b[49m\u001b[43mdata\u001b[49m\u001b[43m \u001b[49m\u001b[38;5;241;43m=\u001b[39;49m\u001b[43m \u001b[49m\u001b[43mdf\u001b[49m\u001b[43m,\u001b[49m\u001b[43m \u001b[49m\u001b[43mx\u001b[49m\u001b[43m \u001b[49m\u001b[38;5;241;43m=\u001b[39;49m\u001b[43m \u001b[49m\u001b[38;5;124;43m'\u001b[39;49m\u001b[38;5;124;43mGeneration\u001b[39;49m\u001b[38;5;124;43m'\u001b[39;49m\u001b[43m,\u001b[49m\u001b[43m \u001b[49m\u001b[43my\u001b[49m\u001b[43m \u001b[49m\u001b[38;5;241;43m=\u001b[39;49m\u001b[43m \u001b[49m\u001b[38;5;124;43m'\u001b[39;49m\u001b[38;5;124;43mPrice\u001b[39;49m\u001b[38;5;124;43m'\u001b[39;49m\u001b[43m,\u001b[49m\u001b[43m \u001b[49m\u001b[43mpalette\u001b[49m\u001b[43m \u001b[49m\u001b[38;5;241;43m=\u001b[39;49m\u001b[43m \u001b[49m\u001b[38;5;124;43m'\u001b[39;49m\u001b[38;5;124;43mhusl\u001b[39;49m\u001b[38;5;124;43m'\u001b[39;49m\u001b[43m)\u001b[49m\n\u001b[0;32m      2\u001b[0m plt\u001b[38;5;241m.\u001b[39mxticks(rotation \u001b[38;5;241m=\u001b[39m \u001b[38;5;124m'\u001b[39m\u001b[38;5;124mvertical\u001b[39m\u001b[38;5;124m'\u001b[39m)\n\u001b[0;32m      3\u001b[0m plt\u001b[38;5;241m.\u001b[39mshow()\n",
      "File \u001b[1;32m~\\AppData\\Roaming\\Python\\Python313\\site-packages\\seaborn\\categorical.py:2341\u001b[0m, in \u001b[0;36mbarplot\u001b[1;34m(data, x, y, hue, order, hue_order, estimator, errorbar, n_boot, seed, units, weights, orient, color, palette, saturation, fill, hue_norm, width, dodge, gap, log_scale, native_scale, formatter, legend, capsize, err_kws, ci, errcolor, errwidth, ax, **kwargs)\u001b[0m\n\u001b[0;32m   2338\u001b[0m \u001b[38;5;28;01mif\u001b[39;00m estimator \u001b[38;5;129;01mis\u001b[39;00m \u001b[38;5;28mlen\u001b[39m:\n\u001b[0;32m   2339\u001b[0m     estimator \u001b[38;5;241m=\u001b[39m \u001b[38;5;124m\"\u001b[39m\u001b[38;5;124msize\u001b[39m\u001b[38;5;124m\"\u001b[39m\n\u001b[1;32m-> 2341\u001b[0m p \u001b[38;5;241m=\u001b[39m \u001b[43m_CategoricalAggPlotter\u001b[49m\u001b[43m(\u001b[49m\n\u001b[0;32m   2342\u001b[0m \u001b[43m    \u001b[49m\u001b[43mdata\u001b[49m\u001b[38;5;241;43m=\u001b[39;49m\u001b[43mdata\u001b[49m\u001b[43m,\u001b[49m\n\u001b[0;32m   2343\u001b[0m \u001b[43m    \u001b[49m\u001b[43mvariables\u001b[49m\u001b[38;5;241;43m=\u001b[39;49m\u001b[38;5;28;43mdict\u001b[39;49m\u001b[43m(\u001b[49m\u001b[43mx\u001b[49m\u001b[38;5;241;43m=\u001b[39;49m\u001b[43mx\u001b[49m\u001b[43m,\u001b[49m\u001b[43m \u001b[49m\u001b[43my\u001b[49m\u001b[38;5;241;43m=\u001b[39;49m\u001b[43my\u001b[49m\u001b[43m,\u001b[49m\u001b[43m \u001b[49m\u001b[43mhue\u001b[49m\u001b[38;5;241;43m=\u001b[39;49m\u001b[43mhue\u001b[49m\u001b[43m,\u001b[49m\u001b[43m \u001b[49m\u001b[43munits\u001b[49m\u001b[38;5;241;43m=\u001b[39;49m\u001b[43munits\u001b[49m\u001b[43m,\u001b[49m\u001b[43m \u001b[49m\u001b[43mweight\u001b[49m\u001b[38;5;241;43m=\u001b[39;49m\u001b[43mweights\u001b[49m\u001b[43m)\u001b[49m\u001b[43m,\u001b[49m\n\u001b[0;32m   2344\u001b[0m \u001b[43m    \u001b[49m\u001b[43morder\u001b[49m\u001b[38;5;241;43m=\u001b[39;49m\u001b[43morder\u001b[49m\u001b[43m,\u001b[49m\n\u001b[0;32m   2345\u001b[0m \u001b[43m    \u001b[49m\u001b[43morient\u001b[49m\u001b[38;5;241;43m=\u001b[39;49m\u001b[43morient\u001b[49m\u001b[43m,\u001b[49m\n\u001b[0;32m   2346\u001b[0m \u001b[43m    \u001b[49m\u001b[43mcolor\u001b[49m\u001b[38;5;241;43m=\u001b[39;49m\u001b[43mcolor\u001b[49m\u001b[43m,\u001b[49m\n\u001b[0;32m   2347\u001b[0m \u001b[43m    \u001b[49m\u001b[43mlegend\u001b[49m\u001b[38;5;241;43m=\u001b[39;49m\u001b[43mlegend\u001b[49m\u001b[43m,\u001b[49m\n\u001b[0;32m   2348\u001b[0m \u001b[43m\u001b[49m\u001b[43m)\u001b[49m\n\u001b[0;32m   2350\u001b[0m \u001b[38;5;28;01mif\u001b[39;00m ax \u001b[38;5;129;01mis\u001b[39;00m \u001b[38;5;28;01mNone\u001b[39;00m:\n\u001b[0;32m   2351\u001b[0m     ax \u001b[38;5;241m=\u001b[39m plt\u001b[38;5;241m.\u001b[39mgca()\n",
      "File \u001b[1;32m~\\AppData\\Roaming\\Python\\Python313\\site-packages\\seaborn\\categorical.py:67\u001b[0m, in \u001b[0;36m_CategoricalPlotter.__init__\u001b[1;34m(self, data, variables, order, orient, require_numeric, color, legend)\u001b[0m\n\u001b[0;32m     56\u001b[0m \u001b[38;5;28;01mdef\u001b[39;00m \u001b[38;5;21m__init__\u001b[39m(\n\u001b[0;32m     57\u001b[0m     \u001b[38;5;28mself\u001b[39m,\n\u001b[0;32m     58\u001b[0m     data\u001b[38;5;241m=\u001b[39m\u001b[38;5;28;01mNone\u001b[39;00m,\n\u001b[1;32m   (...)\u001b[0m\n\u001b[0;32m     64\u001b[0m     legend\u001b[38;5;241m=\u001b[39m\u001b[38;5;124m\"\u001b[39m\u001b[38;5;124mauto\u001b[39m\u001b[38;5;124m\"\u001b[39m,\n\u001b[0;32m     65\u001b[0m ):\n\u001b[1;32m---> 67\u001b[0m     \u001b[38;5;28;43msuper\u001b[39;49m\u001b[43m(\u001b[49m\u001b[43m)\u001b[49m\u001b[38;5;241;43m.\u001b[39;49m\u001b[38;5;21;43m__init__\u001b[39;49m\u001b[43m(\u001b[49m\u001b[43mdata\u001b[49m\u001b[38;5;241;43m=\u001b[39;49m\u001b[43mdata\u001b[49m\u001b[43m,\u001b[49m\u001b[43m \u001b[49m\u001b[43mvariables\u001b[49m\u001b[38;5;241;43m=\u001b[39;49m\u001b[43mvariables\u001b[49m\u001b[43m)\u001b[49m\n\u001b[0;32m     69\u001b[0m     \u001b[38;5;66;03m# This method takes care of some bookkeeping that is necessary because the\u001b[39;00m\n\u001b[0;32m     70\u001b[0m     \u001b[38;5;66;03m# original categorical plots (prior to the 2021 refactor) had some rules that\u001b[39;00m\n\u001b[0;32m     71\u001b[0m     \u001b[38;5;66;03m# don't fit exactly into VectorPlotter logic. It may be wise to have a second\u001b[39;00m\n\u001b[1;32m   (...)\u001b[0m\n\u001b[0;32m     76\u001b[0m     \u001b[38;5;66;03m# default VectorPlotter rules. If we do decide to make orient part of the\u001b[39;00m\n\u001b[0;32m     77\u001b[0m     \u001b[38;5;66;03m# _base variable assignment, we'll want to figure out how to express that.\u001b[39;00m\n\u001b[0;32m     78\u001b[0m     \u001b[38;5;28;01mif\u001b[39;00m \u001b[38;5;28mself\u001b[39m\u001b[38;5;241m.\u001b[39minput_format \u001b[38;5;241m==\u001b[39m \u001b[38;5;124m\"\u001b[39m\u001b[38;5;124mwide\u001b[39m\u001b[38;5;124m\"\u001b[39m \u001b[38;5;129;01mand\u001b[39;00m orient \u001b[38;5;129;01min\u001b[39;00m [\u001b[38;5;124m\"\u001b[39m\u001b[38;5;124mh\u001b[39m\u001b[38;5;124m\"\u001b[39m, \u001b[38;5;124m\"\u001b[39m\u001b[38;5;124my\u001b[39m\u001b[38;5;124m\"\u001b[39m]:\n",
      "File \u001b[1;32m~\\AppData\\Roaming\\Python\\Python313\\site-packages\\seaborn\\_base.py:634\u001b[0m, in \u001b[0;36mVectorPlotter.__init__\u001b[1;34m(self, data, variables)\u001b[0m\n\u001b[0;32m    629\u001b[0m \u001b[38;5;66;03m# var_ordered is relevant only for categorical axis variables, and may\u001b[39;00m\n\u001b[0;32m    630\u001b[0m \u001b[38;5;66;03m# be better handled by an internal axis information object that tracks\u001b[39;00m\n\u001b[0;32m    631\u001b[0m \u001b[38;5;66;03m# such information and is set up by the scale_* methods. The analogous\u001b[39;00m\n\u001b[0;32m    632\u001b[0m \u001b[38;5;66;03m# information for numeric axes would be information about log scales.\u001b[39;00m\n\u001b[0;32m    633\u001b[0m \u001b[38;5;28mself\u001b[39m\u001b[38;5;241m.\u001b[39m_var_ordered \u001b[38;5;241m=\u001b[39m {\u001b[38;5;124m\"\u001b[39m\u001b[38;5;124mx\u001b[39m\u001b[38;5;124m\"\u001b[39m: \u001b[38;5;28;01mFalse\u001b[39;00m, \u001b[38;5;124m\"\u001b[39m\u001b[38;5;124my\u001b[39m\u001b[38;5;124m\"\u001b[39m: \u001b[38;5;28;01mFalse\u001b[39;00m}  \u001b[38;5;66;03m# alt., used DefaultDict\u001b[39;00m\n\u001b[1;32m--> 634\u001b[0m \u001b[38;5;28;43mself\u001b[39;49m\u001b[38;5;241;43m.\u001b[39;49m\u001b[43massign_variables\u001b[49m\u001b[43m(\u001b[49m\u001b[43mdata\u001b[49m\u001b[43m,\u001b[49m\u001b[43m \u001b[49m\u001b[43mvariables\u001b[49m\u001b[43m)\u001b[49m\n\u001b[0;32m    636\u001b[0m \u001b[38;5;66;03m# TODO Lots of tests assume that these are called to initialize the\u001b[39;00m\n\u001b[0;32m    637\u001b[0m \u001b[38;5;66;03m# mappings to default values on class initialization. I'd prefer to\u001b[39;00m\n\u001b[0;32m    638\u001b[0m \u001b[38;5;66;03m# move away from that and only have a mapping when explicitly called.\u001b[39;00m\n\u001b[0;32m    639\u001b[0m \u001b[38;5;28;01mfor\u001b[39;00m var \u001b[38;5;129;01min\u001b[39;00m [\u001b[38;5;124m\"\u001b[39m\u001b[38;5;124mhue\u001b[39m\u001b[38;5;124m\"\u001b[39m, \u001b[38;5;124m\"\u001b[39m\u001b[38;5;124msize\u001b[39m\u001b[38;5;124m\"\u001b[39m, \u001b[38;5;124m\"\u001b[39m\u001b[38;5;124mstyle\u001b[39m\u001b[38;5;124m\"\u001b[39m]:\n",
      "File \u001b[1;32m~\\AppData\\Roaming\\Python\\Python313\\site-packages\\seaborn\\_base.py:679\u001b[0m, in \u001b[0;36mVectorPlotter.assign_variables\u001b[1;34m(self, data, variables)\u001b[0m\n\u001b[0;32m    674\u001b[0m \u001b[38;5;28;01melse\u001b[39;00m:\n\u001b[0;32m    675\u001b[0m     \u001b[38;5;66;03m# When dealing with long-form input, use the newer PlotData\u001b[39;00m\n\u001b[0;32m    676\u001b[0m     \u001b[38;5;66;03m# object (internal but introduced for the objects interface)\u001b[39;00m\n\u001b[0;32m    677\u001b[0m     \u001b[38;5;66;03m# to centralize / standardize data consumption logic.\u001b[39;00m\n\u001b[0;32m    678\u001b[0m     \u001b[38;5;28mself\u001b[39m\u001b[38;5;241m.\u001b[39minput_format \u001b[38;5;241m=\u001b[39m \u001b[38;5;124m\"\u001b[39m\u001b[38;5;124mlong\u001b[39m\u001b[38;5;124m\"\u001b[39m\n\u001b[1;32m--> 679\u001b[0m     plot_data \u001b[38;5;241m=\u001b[39m \u001b[43mPlotData\u001b[49m\u001b[43m(\u001b[49m\u001b[43mdata\u001b[49m\u001b[43m,\u001b[49m\u001b[43m \u001b[49m\u001b[43mvariables\u001b[49m\u001b[43m)\u001b[49m\n\u001b[0;32m    680\u001b[0m     frame \u001b[38;5;241m=\u001b[39m plot_data\u001b[38;5;241m.\u001b[39mframe\n\u001b[0;32m    681\u001b[0m     names \u001b[38;5;241m=\u001b[39m plot_data\u001b[38;5;241m.\u001b[39mnames\n",
      "File \u001b[1;32m~\\AppData\\Roaming\\Python\\Python313\\site-packages\\seaborn\\_core\\data.py:58\u001b[0m, in \u001b[0;36mPlotData.__init__\u001b[1;34m(self, data, variables)\u001b[0m\n\u001b[0;32m     51\u001b[0m \u001b[38;5;28;01mdef\u001b[39;00m \u001b[38;5;21m__init__\u001b[39m(\n\u001b[0;32m     52\u001b[0m     \u001b[38;5;28mself\u001b[39m,\n\u001b[0;32m     53\u001b[0m     data: DataSource,\n\u001b[0;32m     54\u001b[0m     variables: \u001b[38;5;28mdict\u001b[39m[\u001b[38;5;28mstr\u001b[39m, VariableSpec],\n\u001b[0;32m     55\u001b[0m ):\n\u001b[0;32m     57\u001b[0m     data \u001b[38;5;241m=\u001b[39m handle_data_source(data)\n\u001b[1;32m---> 58\u001b[0m     frame, names, ids \u001b[38;5;241m=\u001b[39m \u001b[38;5;28;43mself\u001b[39;49m\u001b[38;5;241;43m.\u001b[39;49m\u001b[43m_assign_variables\u001b[49m\u001b[43m(\u001b[49m\u001b[43mdata\u001b[49m\u001b[43m,\u001b[49m\u001b[43m \u001b[49m\u001b[43mvariables\u001b[49m\u001b[43m)\u001b[49m\n\u001b[0;32m     60\u001b[0m     \u001b[38;5;28mself\u001b[39m\u001b[38;5;241m.\u001b[39mframe \u001b[38;5;241m=\u001b[39m frame\n\u001b[0;32m     61\u001b[0m     \u001b[38;5;28mself\u001b[39m\u001b[38;5;241m.\u001b[39mnames \u001b[38;5;241m=\u001b[39m names\n",
      "File \u001b[1;32m~\\AppData\\Roaming\\Python\\Python313\\site-packages\\seaborn\\_core\\data.py:232\u001b[0m, in \u001b[0;36mPlotData._assign_variables\u001b[1;34m(self, data, variables)\u001b[0m\n\u001b[0;32m    230\u001b[0m     \u001b[38;5;28;01melse\u001b[39;00m:\n\u001b[0;32m    231\u001b[0m         err \u001b[38;5;241m+\u001b[39m\u001b[38;5;241m=\u001b[39m \u001b[38;5;124m\"\u001b[39m\u001b[38;5;124mAn entry with this name does not appear in `data`.\u001b[39m\u001b[38;5;124m\"\u001b[39m\n\u001b[1;32m--> 232\u001b[0m     \u001b[38;5;28;01mraise\u001b[39;00m \u001b[38;5;167;01mValueError\u001b[39;00m(err)\n\u001b[0;32m    234\u001b[0m \u001b[38;5;28;01melse\u001b[39;00m:\n\u001b[0;32m    235\u001b[0m \n\u001b[0;32m    236\u001b[0m     \u001b[38;5;66;03m# Otherwise, assume the value somehow represents data\u001b[39;00m\n\u001b[0;32m    237\u001b[0m \n\u001b[0;32m    238\u001b[0m     \u001b[38;5;66;03m# Ignore empty data structures\u001b[39;00m\n\u001b[0;32m    239\u001b[0m     \u001b[38;5;28;01mif\u001b[39;00m \u001b[38;5;28misinstance\u001b[39m(val, Sized) \u001b[38;5;129;01mand\u001b[39;00m \u001b[38;5;28mlen\u001b[39m(val) \u001b[38;5;241m==\u001b[39m \u001b[38;5;241m0\u001b[39m:\n",
      "\u001b[1;31mValueError\u001b[0m: Could not interpret value `Generation` for `x`. An entry with this name does not appear in `data`."
     ]
    }
   ],
   "source": [
    "sns.barplot(data = df, x = 'Generation', y = 'Price', palette = 'husl')\n",
    "plt.xticks(rotation = 'vertical')\n",
    "plt.show()"
   ]
  },
  {
   "cell_type": "markdown",
   "metadata": {},
   "source": [
    "Prices aren't really varying with generation and there are a lot of missing values as well; so I am getting rid of this column."
   ]
  },
  {
   "cell_type": "code",
   "execution_count": 126,
   "metadata": {
    "execution": {
     "iopub.execute_input": "2024-10-13T05:39:51.224121Z",
     "iopub.status.busy": "2024-10-13T05:39:51.223737Z",
     "iopub.status.idle": "2024-10-13T05:39:51.232255Z",
     "shell.execute_reply": "2024-10-13T05:39:51.230579Z",
     "shell.execute_reply.started": "2024-10-13T05:39:51.224080Z"
    },
    "trusted": true
   },
   "outputs": [],
   "source": [
    "df.drop('Generation', axis= 1, inplace = True)"
   ]
  },
  {
   "cell_type": "code",
   "execution_count": 127,
   "metadata": {
    "execution": {
     "iopub.execute_input": "2024-10-13T05:39:51.234880Z",
     "iopub.status.busy": "2024-10-13T05:39:51.234230Z",
     "iopub.status.idle": "2024-10-13T05:39:51.249059Z",
     "shell.execute_reply": "2024-10-13T05:39:51.247439Z",
     "shell.execute_reply.started": "2024-10-13T05:39:51.234816Z"
    },
    "trusted": true
   },
   "outputs": [
    {
     "data": {
      "text/plain": [
       "Index(['brand', 'processor_brand', 'processor_name', 'RAM', 'ram_type', 'ssd',\n",
       "       'hdd', 'os', 'os_bit', 'graphic_card_gb', 'weight', 'warranty',\n",
       "       'Touchscreen', 'msoffice', 'Price', 'rating', 'Number of Ratings',\n",
       "       'Number of Reviews'],\n",
       "      dtype='object')"
      ]
     },
     "execution_count": 127,
     "metadata": {},
     "output_type": "execute_result"
    }
   ],
   "source": [
    "df.columns"
   ]
  },
  {
   "cell_type": "code",
   "execution_count": 128,
   "metadata": {
    "execution": {
     "iopub.execute_input": "2024-10-13T05:39:51.250939Z",
     "iopub.status.busy": "2024-10-13T05:39:51.250470Z",
     "iopub.status.idle": "2024-10-13T05:39:51.266106Z",
     "shell.execute_reply": "2024-10-13T05:39:51.264751Z",
     "shell.execute_reply.started": "2024-10-13T05:39:51.250892Z"
    },
    "trusted": true
   },
   "outputs": [
    {
     "data": {
      "text/plain": [
       "RAM\n",
       "8 GB     418\n",
       "4 GB     226\n",
       "16 GB    177\n",
       "32 GB      2\n",
       "Name: count, dtype: int64"
      ]
     },
     "execution_count": 128,
     "metadata": {},
     "output_type": "execute_result"
    }
   ],
   "source": [
    "df.RAM.value_counts()"
   ]
  },
  {
   "cell_type": "code",
   "execution_count": 129,
   "metadata": {
    "execution": {
     "iopub.execute_input": "2024-10-13T05:39:51.269241Z",
     "iopub.status.busy": "2024-10-13T05:39:51.267898Z",
     "iopub.status.idle": "2024-10-13T05:39:51.578696Z",
     "shell.execute_reply": "2024-10-13T05:39:51.577221Z",
     "shell.execute_reply.started": "2024-10-13T05:39:51.269148Z"
    },
    "trusted": true
   },
   "outputs": [
    {
     "data": {
      "image/png": "[encoded data removed]",
      "text/plain": [
       "<Figure size 640x480 with 1 Axes>"
      ]
     },
     "metadata": {},
     "output_type": "display_data"
    }
   ],
   "source": [
    "sns.barplot(data = df, x = 'RAM', y = 'Price')\n",
    "plt.show()"
   ]
  },
  {
   "cell_type": "code",
   "execution_count": 130,
   "metadata": {
    "execution": {
     "iopub.execute_input": "2024-10-13T05:39:51.581477Z",
     "iopub.status.busy": "2024-10-13T05:39:51.580298Z",
     "iopub.status.idle": "2024-10-13T05:39:51.590717Z",
     "shell.execute_reply": "2024-10-13T05:39:51.589102Z",
     "shell.execute_reply.started": "2024-10-13T05:39:51.581429Z"
    },
    "trusted": true
   },
   "outputs": [],
   "source": [
    "df['RAM'] = df.RAM.str.replace(' GB', '')\n",
    "df['RAM'] = df.RAM.astype(int)"
   ]
  },
  {
   "cell_type": "code",
   "execution_count": 131,
   "metadata": {
    "execution": {
     "iopub.execute_input": "2024-10-13T05:39:51.592851Z",
     "iopub.status.busy": "2024-10-13T05:39:51.592443Z",
     "iopub.status.idle": "2024-10-13T05:39:51.608835Z",
     "shell.execute_reply": "2024-10-13T05:39:51.607178Z",
     "shell.execute_reply.started": "2024-10-13T05:39:51.592811Z"
    },
    "trusted": true
   },
   "outputs": [
    {
     "data": {
      "text/plain": [
       "ram_type\n",
       "DDR4       709\n",
       "LPDDR4X     58\n",
       "LPDDR4      27\n",
       "LPDDR3      14\n",
       "DDR5         8\n",
       "DDR3         7\n",
       "Name: count, dtype: int64"
      ]
     },
     "execution_count": 131,
     "metadata": {},
     "output_type": "execute_result"
    }
   ],
   "source": [
    "df.ram_type.value_counts()"
   ]
  },
  {
   "cell_type": "code",
   "execution_count": 132,
   "metadata": {
    "execution": {
     "iopub.execute_input": "2024-10-13T05:39:51.615923Z",
     "iopub.status.busy": "2024-10-13T05:39:51.615494Z",
     "iopub.status.idle": "2024-10-13T05:39:52.014656Z",
     "shell.execute_reply": "2024-10-13T05:39:52.013252Z",
     "shell.execute_reply.started": "2024-10-13T05:39:51.615881Z"
    },
    "trusted": true
   },
   "outputs": [
    {
     "data": {
      "image/png": "[encoded data removed]",
      "text/plain": [
       "<Figure size 640x480 with 1 Axes>"
      ]
     },
     "metadata": {},
     "output_type": "display_data"
    }
   ],
   "source": [
    "sns.barplot(data = df, x = 'ram_type', y = 'Price')\n",
    "plt.xticks(rotation = 'vertical')\n",
    "plt.show()"
   ]
  },
  {
   "cell_type": "code",
   "execution_count": 133,
   "metadata": {
    "execution": {
     "iopub.execute_input": "2024-10-13T05:39:52.016871Z",
     "iopub.status.busy": "2024-10-13T05:39:52.016182Z",
     "iopub.status.idle": "2024-10-13T05:39:52.027338Z",
     "shell.execute_reply": "2024-10-13T05:39:52.025814Z",
     "shell.execute_reply.started": "2024-10-13T05:39:52.016829Z"
    },
    "trusted": true
   },
   "outputs": [
    {
     "data": {
      "text/plain": [
       "ssd\n",
       "512 GB     398\n",
       "256 GB     184\n",
       "0 GB       124\n",
       "1024 GB    111\n",
       "128 GB       3\n",
       "2048 GB      2\n",
       "3072 GB      1\n",
       "Name: count, dtype: int64"
      ]
     },
     "execution_count": 133,
     "metadata": {},
     "output_type": "execute_result"
    }
   ],
   "source": [
    "df.ssd.value_counts()"
   ]
  },
  {
   "cell_type": "code",
   "execution_count": 134,
   "metadata": {
    "execution": {
     "iopub.execute_input": "2024-10-13T05:39:52.029706Z",
     "iopub.status.busy": "2024-10-13T05:39:52.029213Z",
     "iopub.status.idle": "2024-10-13T05:39:52.490407Z",
     "shell.execute_reply": "2024-10-13T05:39:52.488921Z",
     "shell.execute_reply.started": "2024-10-13T05:39:52.029658Z"
    },
    "trusted": true
   },
   "outputs": [
    {
     "data": {
      "image/png": "[encoded data removed]",
      "text/plain": [
       "<Figure size 640x480 with 1 Axes>"
      ]
     },
     "metadata": {},
     "output_type": "display_data"
    }
   ],
   "source": [
    "sns.barplot(data = df, x = 'ssd', y = 'Price', palette = 'hls')\n",
    "plt.xticks(rotation = 'vertical')\n",
    "plt.show()"
   ]
  },
  {
   "cell_type": "code",
   "execution_count": 135,
   "metadata": {
    "execution": {
     "iopub.execute_input": "2024-10-13T05:39:52.492558Z",
     "iopub.status.busy": "2024-10-13T05:39:52.492193Z",
     "iopub.status.idle": "2024-10-13T05:39:52.500472Z",
     "shell.execute_reply": "2024-10-13T05:39:52.498966Z",
     "shell.execute_reply.started": "2024-10-13T05:39:52.492518Z"
    },
    "trusted": true
   },
   "outputs": [],
   "source": [
    "df['ssd'] = df.ssd.str.replace(' GB', '')"
   ]
  },
  {
   "cell_type": "code",
   "execution_count": 136,
   "metadata": {
    "execution": {
     "iopub.execute_input": "2024-10-13T05:39:52.502602Z",
     "iopub.status.busy": "2024-10-13T05:39:52.502111Z",
     "iopub.status.idle": "2024-10-13T05:39:52.514776Z",
     "shell.execute_reply": "2024-10-13T05:39:52.512788Z",
     "shell.execute_reply.started": "2024-10-13T05:39:52.502539Z"
    },
    "trusted": true
   },
   "outputs": [],
   "source": [
    "df['ssd'] = df.ssd.astype(int)"
   ]
  },
  {
   "cell_type": "code",
   "execution_count": 137,
   "metadata": {
    "execution": {
     "iopub.execute_input": "2024-10-13T05:39:52.517114Z",
     "iopub.status.busy": "2024-10-13T05:39:52.516642Z",
     "iopub.status.idle": "2024-10-13T05:39:52.532631Z",
     "shell.execute_reply": "2024-10-13T05:39:52.531078Z",
     "shell.execute_reply.started": "2024-10-13T05:39:52.517070Z"
    },
    "trusted": true
   },
   "outputs": [
    {
     "data": {
      "text/plain": [
       "hdd\n",
       "0 GB       621\n",
       "1024 GB    160\n",
       "512 GB      41\n",
       "2048 GB      1\n",
       "Name: count, dtype: int64"
      ]
     },
     "execution_count": 137,
     "metadata": {},
     "output_type": "execute_result"
    }
   ],
   "source": [
    "df.hdd.value_counts()"
   ]
  },
  {
   "cell_type": "code",
   "execution_count": 138,
   "metadata": {
    "execution": {
     "iopub.execute_input": "2024-10-13T05:39:52.534837Z",
     "iopub.status.busy": "2024-10-13T05:39:52.534392Z",
     "iopub.status.idle": "2024-10-13T05:39:52.793184Z",
     "shell.execute_reply": "2024-10-13T05:39:52.792019Z",
     "shell.execute_reply.started": "2024-10-13T05:39:52.534794Z"
    },
    "trusted": true
   },
   "outputs": [
    {
     "data": {
      "image/png": "[encoded data removed]",
      "text/plain": [
       "<Figure size 640x480 with 1 Axes>"
      ]
     },
     "metadata": {},
     "output_type": "display_data"
    }
   ],
   "source": [
    "sns.barplot(data = df, x = 'hdd', y = 'Price')\n",
    "plt.show()"
   ]
  },
  {
   "cell_type": "markdown",
   "metadata": {},
   "source": [
    "hdd will be changed to a boolean column with values 0 and 1. A laptop either has hdd or not."
   ]
  },
  {
   "cell_type": "code",
   "execution_count": 139,
   "metadata": {
    "execution": {
     "iopub.execute_input": "2024-10-13T05:39:52.796020Z",
     "iopub.status.busy": "2024-10-13T05:39:52.794927Z",
     "iopub.status.idle": "2024-10-13T05:39:52.804410Z",
     "shell.execute_reply": "2024-10-13T05:39:52.803068Z",
     "shell.execute_reply.started": "2024-10-13T05:39:52.795961Z"
    },
    "trusted": true
   },
   "outputs": [],
   "source": [
    "df['hdd'] = df['hdd'].apply(lambda x:0 if (x == '0 GB') else 1)"
   ]
  },
  {
   "cell_type": "code",
   "execution_count": 140,
   "metadata": {
    "execution": {
     "iopub.execute_input": "2024-10-13T05:39:52.808511Z",
     "iopub.status.busy": "2024-10-13T05:39:52.806373Z",
     "iopub.status.idle": "2024-10-13T05:39:52.822447Z",
     "shell.execute_reply": "2024-10-13T05:39:52.821220Z",
     "shell.execute_reply.started": "2024-10-13T05:39:52.808468Z"
    },
    "trusted": true
   },
   "outputs": [
    {
     "data": {
      "text/plain": [
       "hdd\n",
       "0    621\n",
       "1    202\n",
       "Name: count, dtype: int64"
      ]
     },
     "execution_count": 140,
     "metadata": {},
     "output_type": "execute_result"
    }
   ],
   "source": [
    "df['hdd'].value_counts()"
   ]
  },
  {
   "cell_type": "code",
   "execution_count": 141,
   "metadata": {
    "execution": {
     "iopub.execute_input": "2024-10-13T05:39:52.824388Z",
     "iopub.status.busy": "2024-10-13T05:39:52.823986Z",
     "iopub.status.idle": "2024-10-13T05:39:52.835003Z",
     "shell.execute_reply": "2024-10-13T05:39:52.833435Z",
     "shell.execute_reply.started": "2024-10-13T05:39:52.824347Z"
    },
    "trusted": true
   },
   "outputs": [
    {
     "data": {
      "text/plain": [
       "os\n",
       "Windows    779\n",
       "Mac         28\n",
       "DOS         16\n",
       "Name: count, dtype: int64"
      ]
     },
     "execution_count": 141,
     "metadata": {},
     "output_type": "execute_result"
    }
   ],
   "source": [
    "df.os.value_counts()"
   ]
  },
  {
   "cell_type": "code",
   "execution_count": 142,
   "metadata": {
    "execution": {
     "iopub.execute_input": "2024-10-13T05:39:52.837422Z",
     "iopub.status.busy": "2024-10-13T05:39:52.836865Z",
     "iopub.status.idle": "2024-10-13T05:39:53.108142Z",
     "shell.execute_reply": "2024-10-13T05:39:53.106931Z",
     "shell.execute_reply.started": "2024-10-13T05:39:52.837372Z"
    },
    "trusted": true
   },
   "outputs": [
    {
     "data": {
      "image/png": "[encoded data removed]",
      "text/plain": [
       "<Figure size 640x480 with 1 Axes>"
      ]
     },
     "metadata": {},
     "output_type": "display_data"
    }
   ],
   "source": [
    "sns.barplot(data =df, x = 'os', y = 'Price')\n",
    "plt.show()"
   ]
  },
  {
   "cell_type": "code",
   "execution_count": 143,
   "metadata": {
    "execution": {
     "iopub.execute_input": "2024-10-13T05:39:53.110018Z",
     "iopub.status.busy": "2024-10-13T05:39:53.109638Z",
     "iopub.status.idle": "2024-10-13T05:39:53.120679Z",
     "shell.execute_reply": "2024-10-13T05:39:53.119229Z",
     "shell.execute_reply.started": "2024-10-13T05:39:53.109978Z"
    },
    "trusted": true
   },
   "outputs": [
    {
     "data": {
      "text/plain": [
       "os_bit\n",
       "64-bit    714\n",
       "32-bit    109\n",
       "Name: count, dtype: int64"
      ]
     },
     "execution_count": 143,
     "metadata": {},
     "output_type": "execute_result"
    }
   ],
   "source": [
    "df.os_bit.value_counts()"
   ]
  },
  {
   "cell_type": "code",
   "execution_count": 144,
   "metadata": {
    "execution": {
     "iopub.execute_input": "2024-10-13T05:39:53.122360Z",
     "iopub.status.busy": "2024-10-13T05:39:53.121948Z",
     "iopub.status.idle": "2024-10-13T05:39:53.336377Z",
     "shell.execute_reply": "2024-10-13T05:39:53.335240Z",
     "shell.execute_reply.started": "2024-10-13T05:39:53.122319Z"
    },
    "trusted": true
   },
   "outputs": [
    {
     "data": {
      "image/png": "[encoded data removed]",
      "text/plain": [
       "<Figure size 640x480 with 1 Axes>"
      ]
     },
     "metadata": {},
     "output_type": "display_data"
    }
   ],
   "source": [
    "sns.barplot(data =df, x = 'os_bit', y = 'Price')\n",
    "plt.show()"
   ]
  },
  {
   "cell_type": "markdown",
   "metadata": {},
   "source": [
    "os_bit doesn't depend on price at all.\n",
    "So I am removing this."
   ]
  },
  {
   "cell_type": "code",
   "execution_count": 145,
   "metadata": {
    "execution": {
     "iopub.execute_input": "2024-10-13T05:39:53.339564Z",
     "iopub.status.busy": "2024-10-13T05:39:53.337935Z",
     "iopub.status.idle": "2024-10-13T05:39:53.346693Z",
     "shell.execute_reply": "2024-10-13T05:39:53.345721Z",
     "shell.execute_reply.started": "2024-10-13T05:39:53.339488Z"
    },
    "trusted": true
   },
   "outputs": [],
   "source": [
    "df.drop('os_bit', axis = 1, inplace = True)"
   ]
  },
  {
   "cell_type": "code",
   "execution_count": 146,
   "metadata": {
    "execution": {
     "iopub.execute_input": "2024-10-13T05:39:53.349267Z",
     "iopub.status.busy": "2024-10-13T05:39:53.348192Z",
     "iopub.status.idle": "2024-10-13T05:39:53.362739Z",
     "shell.execute_reply": "2024-10-13T05:39:53.361488Z",
     "shell.execute_reply.started": "2024-10-13T05:39:53.349205Z"
    },
    "trusted": true
   },
   "outputs": [
    {
     "data": {
      "text/plain": [
       "graphic_card_gb\n",
       "0 GB    577\n",
       "4 GB    128\n",
       "2 GB     67\n",
       "6 GB     37\n",
       "8 GB     14\n",
       "Name: count, dtype: int64"
      ]
     },
     "execution_count": 146,
     "metadata": {},
     "output_type": "execute_result"
    }
   ],
   "source": [
    "df.graphic_card_gb.value_counts()"
   ]
  },
  {
   "cell_type": "code",
   "execution_count": 147,
   "metadata": {
    "execution": {
     "iopub.execute_input": "2024-10-13T05:39:53.365325Z",
     "iopub.status.busy": "2024-10-13T05:39:53.364704Z",
     "iopub.status.idle": "2024-10-13T05:39:53.719761Z",
     "shell.execute_reply": "2024-10-13T05:39:53.718268Z",
     "shell.execute_reply.started": "2024-10-13T05:39:53.365277Z"
    },
    "trusted": true
   },
   "outputs": [
    {
     "data": {
      "image/png": "[encoded data removed]",
      "text/plain": [
       "<Figure size 640x480 with 1 Axes>"
      ]
     },
     "metadata": {},
     "output_type": "display_data"
    }
   ],
   "source": [
    "sns.barplot(data =df, x = 'graphic_card_gb', y = 'Price', palette = 'viridis')\n",
    "plt.show()"
   ]
  },
  {
   "cell_type": "code",
   "execution_count": 148,
   "metadata": {
    "execution": {
     "iopub.execute_input": "2024-10-13T05:39:53.722227Z",
     "iopub.status.busy": "2024-10-13T05:39:53.721709Z",
     "iopub.status.idle": "2024-10-13T05:39:53.731911Z",
     "shell.execute_reply": "2024-10-13T05:39:53.730475Z",
     "shell.execute_reply.started": "2024-10-13T05:39:53.722150Z"
    },
    "trusted": true
   },
   "outputs": [],
   "source": [
    "df.graphic_card_gb = df.graphic_card_gb.str.replace(' GB', '')\n",
    "df.graphic_card_gb = df.graphic_card_gb.astype(int)"
   ]
  },
  {
   "cell_type": "code",
   "execution_count": 149,
   "metadata": {
    "execution": {
     "iopub.execute_input": "2024-10-13T05:39:53.734122Z",
     "iopub.status.busy": "2024-10-13T05:39:53.733665Z",
     "iopub.status.idle": "2024-10-13T05:39:53.747482Z",
     "shell.execute_reply": "2024-10-13T05:39:53.746339Z",
     "shell.execute_reply.started": "2024-10-13T05:39:53.734080Z"
    },
    "trusted": true
   },
   "outputs": [
    {
     "data": {
      "text/plain": [
       "weight\n",
       "Casual        520\n",
       "ThinNlight    264\n",
       "Gaming         39\n",
       "Name: count, dtype: int64"
      ]
     },
     "execution_count": 149,
     "metadata": {},
     "output_type": "execute_result"
    }
   ],
   "source": [
    "df.weight.value_counts()"
   ]
  },
  {
   "cell_type": "code",
   "execution_count": 150,
   "metadata": {
    "execution": {
     "iopub.execute_input": "2024-10-13T05:39:53.749889Z",
     "iopub.status.busy": "2024-10-13T05:39:53.749401Z",
     "iopub.status.idle": "2024-10-13T05:39:54.033890Z",
     "shell.execute_reply": "2024-10-13T05:39:54.032502Z",
     "shell.execute_reply.started": "2024-10-13T05:39:53.749836Z"
    },
    "trusted": true
   },
   "outputs": [
    {
     "data": {
      "image/png": "[encoded data removed]",
      "text/plain": [
       "<Figure size 640x480 with 1 Axes>"
      ]
     },
     "metadata": {},
     "output_type": "display_data"
    }
   ],
   "source": [
    "sns.barplot(data = df, x = 'weight', y = 'Price')\n",
    "plt.show()"
   ]
  },
  {
   "cell_type": "code",
   "execution_count": 151,
   "metadata": {
    "execution": {
     "iopub.execute_input": "2024-10-13T05:39:54.036613Z",
     "iopub.status.busy": "2024-10-13T05:39:54.036101Z",
     "iopub.status.idle": "2024-10-13T05:39:54.048094Z",
     "shell.execute_reply": "2024-10-13T05:39:54.046717Z",
     "shell.execute_reply.started": "2024-10-13T05:39:54.036558Z"
    },
    "trusted": true
   },
   "outputs": [
    {
     "data": {
      "text/plain": [
       "warranty\n",
       "1 year         509\n",
       "No warranty    278\n",
       "2 years         23\n",
       "3 years         13\n",
       "Name: count, dtype: int64"
      ]
     },
     "execution_count": 151,
     "metadata": {},
     "output_type": "execute_result"
    }
   ],
   "source": [
    "df.warranty.value_counts()"
   ]
  },
  {
   "cell_type": "code",
   "execution_count": 152,
   "metadata": {
    "execution": {
     "iopub.execute_input": "2024-10-13T05:39:54.050674Z",
     "iopub.status.busy": "2024-10-13T05:39:54.050106Z",
     "iopub.status.idle": "2024-10-13T05:39:54.058758Z",
     "shell.execute_reply": "2024-10-13T05:39:54.057221Z",
     "shell.execute_reply.started": "2024-10-13T05:39:54.050605Z"
    },
    "trusted": true
   },
   "outputs": [],
   "source": [
    "def fetch_warranty(text):\n",
    "    if text == '1 year':\n",
    "        return 1\n",
    "    elif text == '2 years':\n",
    "        return 2\n",
    "    elif text == '3 years':\n",
    "        return 3\n",
    "    else:\n",
    "        return 0"
   ]
  },
  {
   "cell_type": "code",
   "execution_count": 153,
   "metadata": {
    "execution": {
     "iopub.execute_input": "2024-10-13T05:39:54.062273Z",
     "iopub.status.busy": "2024-10-13T05:39:54.060714Z",
     "iopub.status.idle": "2024-10-13T05:39:54.071752Z",
     "shell.execute_reply": "2024-10-13T05:39:54.070204Z",
     "shell.execute_reply.started": "2024-10-13T05:39:54.062111Z"
    },
    "trusted": true
   },
   "outputs": [],
   "source": [
    "df['warranty'] = df['warranty'].apply(fetch_warranty)"
   ]
  },
  {
   "cell_type": "code",
   "execution_count": 154,
   "metadata": {
    "execution": {
     "iopub.execute_input": "2024-10-13T05:39:54.073888Z",
     "iopub.status.busy": "2024-10-13T05:39:54.073466Z",
     "iopub.status.idle": "2024-10-13T05:39:54.086580Z",
     "shell.execute_reply": "2024-10-13T05:39:54.085150Z",
     "shell.execute_reply.started": "2024-10-13T05:39:54.073844Z"
    },
    "trusted": true
   },
   "outputs": [
    {
     "data": {
      "text/plain": [
       "dtype('int64')"
      ]
     },
     "execution_count": 154,
     "metadata": {},
     "output_type": "execute_result"
    }
   ],
   "source": [
    "df.warranty.dtype"
   ]
  },
  {
   "cell_type": "code",
   "execution_count": 155,
   "metadata": {
    "execution": {
     "iopub.execute_input": "2024-10-13T05:39:54.088721Z",
     "iopub.status.busy": "2024-10-13T05:39:54.088292Z",
     "iopub.status.idle": "2024-10-13T05:39:54.102789Z",
     "shell.execute_reply": "2024-10-13T05:39:54.101531Z",
     "shell.execute_reply.started": "2024-10-13T05:39:54.088677Z"
    },
    "trusted": true
   },
   "outputs": [
    {
     "data": {
      "text/plain": [
       "Touchscreen\n",
       "No     726\n",
       "Yes     97\n",
       "Name: count, dtype: int64"
      ]
     },
     "execution_count": 155,
     "metadata": {},
     "output_type": "execute_result"
    }
   ],
   "source": [
    "df.Touchscreen.value_counts()"
   ]
  },
  {
   "cell_type": "code",
   "execution_count": 156,
   "metadata": {
    "execution": {
     "iopub.execute_input": "2024-10-13T05:39:54.105941Z",
     "iopub.status.busy": "2024-10-13T05:39:54.104509Z",
     "iopub.status.idle": "2024-10-13T05:39:54.404974Z",
     "shell.execute_reply": "2024-10-13T05:39:54.403540Z",
     "shell.execute_reply.started": "2024-10-13T05:39:54.105874Z"
    },
    "trusted": true
   },
   "outputs": [
    {
     "data": {
      "image/png": "[encoded data removed]",
      "text/plain": [
       "<Figure size 640x480 with 1 Axes>"
      ]
     },
     "metadata": {},
     "output_type": "display_data"
    }
   ],
   "source": [
    "sns.barplot(data =df, x = 'Touchscreen', y = 'Price')\n",
    "plt.show()"
   ]
  },
  {
   "cell_type": "code",
   "execution_count": 157,
   "metadata": {
    "execution": {
     "iopub.execute_input": "2024-10-13T05:39:54.407507Z",
     "iopub.status.busy": "2024-10-13T05:39:54.407007Z",
     "iopub.status.idle": "2024-10-13T05:39:54.417832Z",
     "shell.execute_reply": "2024-10-13T05:39:54.416517Z",
     "shell.execute_reply.started": "2024-10-13T05:39:54.407465Z"
    },
    "trusted": true
   },
   "outputs": [
    {
     "data": {
      "text/plain": [
       "msoffice\n",
       "No     542\n",
       "Yes    281\n",
       "Name: count, dtype: int64"
      ]
     },
     "execution_count": 157,
     "metadata": {},
     "output_type": "execute_result"
    }
   ],
   "source": [
    "df.msoffice.value_counts()"
   ]
  },
  {
   "cell_type": "code",
   "execution_count": 158,
   "metadata": {
    "execution": {
     "iopub.execute_input": "2024-10-13T05:39:54.419841Z",
     "iopub.status.busy": "2024-10-13T05:39:54.419385Z",
     "iopub.status.idle": "2024-10-13T05:39:54.732993Z",
     "shell.execute_reply": "2024-10-13T05:39:54.731385Z",
     "shell.execute_reply.started": "2024-10-13T05:39:54.419801Z"
    },
    "trusted": true
   },
   "outputs": [
    {
     "data": {
      "image/png": "[encoded data removed]",
      "text/plain": [
       "<Figure size 640x480 with 1 Axes>"
      ]
     },
     "metadata": {},
     "output_type": "display_data"
    }
   ],
   "source": [
    "sns.barplot(data =df, x = 'msoffice', y = 'Price')\n",
    "plt.show()"
   ]
  },
  {
   "cell_type": "code",
   "execution_count": 159,
   "metadata": {
    "execution": {
     "iopub.execute_input": "2024-10-13T05:39:54.746942Z",
     "iopub.status.busy": "2024-10-13T05:39:54.746407Z",
     "iopub.status.idle": "2024-10-13T05:39:55.099577Z",
     "shell.execute_reply": "2024-10-13T05:39:55.098307Z",
     "shell.execute_reply.started": "2024-10-13T05:39:54.746896Z"
    },
    "trusted": true
   },
   "outputs": [
    {
     "name": "stderr",
     "output_type": "stream",
     "text": [
      "/opt/conda/lib/python3.10/site-packages/seaborn/_oldcore.py:1119: FutureWarning: use_inf_as_na option is deprecated and will be removed in a future version. Convert inf values to NaN before operating instead.\n",
      "  with pd.option_context('mode.use_inf_as_na', True):\n"
     ]
    },
    {
     "data": {
      "image/png": "[encoded data removed]",
      "text/plain": [
       "<Figure size 640x480 with 1 Axes>"
      ]
     },
     "metadata": {},
     "output_type": "display_data"
    }
   ],
   "source": [
    "sns.kdeplot(df['Price'])\n",
    "plt.show()"
   ]
  },
  {
   "cell_type": "code",
   "execution_count": 160,
   "metadata": {
    "execution": {
     "iopub.execute_input": "2024-10-13T05:39:55.102421Z",
     "iopub.status.busy": "2024-10-13T05:39:55.101480Z",
     "iopub.status.idle": "2024-10-13T05:39:55.122820Z",
     "shell.execute_reply": "2024-10-13T05:39:55.121059Z",
     "shell.execute_reply.started": "2024-10-13T05:39:55.102374Z"
    },
    "trusted": true
   },
   "outputs": [
    {
     "data": {
      "text/plain": [
       "2.388557273333574"
      ]
     },
     "execution_count": 160,
     "metadata": {},
     "output_type": "execute_result"
    }
   ],
   "source": [
    "df['Price'].skew()"
   ]
  },
  {
   "cell_type": "markdown",
   "metadata": {},
   "source": [
    "Price is skewed towards the right, so I am applying log transformation"
   ]
  },
  {
   "cell_type": "code",
   "execution_count": 161,
   "metadata": {
    "execution": {
     "iopub.execute_input": "2024-10-13T05:39:55.126055Z",
     "iopub.status.busy": "2024-10-13T05:39:55.125105Z",
     "iopub.status.idle": "2024-10-13T05:39:55.467766Z",
     "shell.execute_reply": "2024-10-13T05:39:55.466344Z",
     "shell.execute_reply.started": "2024-10-13T05:39:55.125998Z"
    },
    "trusted": true
   },
   "outputs": [
    {
     "name": "stderr",
     "output_type": "stream",
     "text": [
      "/opt/conda/lib/python3.10/site-packages/seaborn/_oldcore.py:1119: FutureWarning: use_inf_as_na option is deprecated and will be removed in a future version. Convert inf values to NaN before operating instead.\n",
      "  with pd.option_context('mode.use_inf_as_na', True):\n"
     ]
    },
    {
     "data": {
      "image/png": "[encoded data removed]",
      "text/plain": [
       "<Figure size 640x480 with 1 Axes>"
      ]
     },
     "metadata": {},
     "output_type": "display_data"
    }
   ],
   "source": [
    "sns.kdeplot(np.log(df['Price']))\n",
    "plt.show()"
   ]
  },
  {
   "cell_type": "code",
   "execution_count": 162,
   "metadata": {
    "execution": {
     "iopub.execute_input": "2024-10-13T05:39:55.470299Z",
     "iopub.status.busy": "2024-10-13T05:39:55.469779Z",
     "iopub.status.idle": "2024-10-13T05:39:55.481221Z",
     "shell.execute_reply": "2024-10-13T05:39:55.479827Z",
     "shell.execute_reply.started": "2024-10-13T05:39:55.470242Z"
    },
    "trusted": true
   },
   "outputs": [
    {
     "data": {
      "text/plain": [
       "0.428209965451765"
      ]
     },
     "execution_count": 162,
     "metadata": {},
     "output_type": "execute_result"
    }
   ],
   "source": [
    "np.log(df['Price']).skew()"
   ]
  },
  {
   "cell_type": "code",
   "execution_count": 163,
   "metadata": {
    "execution": {
     "iopub.execute_input": "2024-10-13T05:39:55.483712Z",
     "iopub.status.busy": "2024-10-13T05:39:55.483123Z",
     "iopub.status.idle": "2024-10-13T05:39:55.490136Z",
     "shell.execute_reply": "2024-10-13T05:39:55.488974Z",
     "shell.execute_reply.started": "2024-10-13T05:39:55.483648Z"
    },
    "trusted": true
   },
   "outputs": [],
   "source": [
    "df['Price'] = np.log(df['Price'])"
   ]
  },
  {
   "cell_type": "code",
   "execution_count": 164,
   "metadata": {
    "execution": {
     "iopub.execute_input": "2024-10-13T05:39:55.492223Z",
     "iopub.status.busy": "2024-10-13T05:39:55.491814Z",
     "iopub.status.idle": "2024-10-13T05:39:55.681826Z",
     "shell.execute_reply": "2024-10-13T05:39:55.680265Z",
     "shell.execute_reply.started": "2024-10-13T05:39:55.492170Z"
    },
    "trusted": true
   },
   "outputs": [
    {
     "data": {
      "image/png": "[encoded data removed]",
      "text/plain": [
       "<Figure size 640x480 with 1 Axes>"
      ]
     },
     "metadata": {},
     "output_type": "display_data"
    }
   ],
   "source": [
    "sns.boxplot(df['Price'])\n",
    "plt.show()"
   ]
  },
  {
   "cell_type": "code",
   "execution_count": 165,
   "metadata": {
    "execution": {
     "iopub.execute_input": "2024-10-13T05:39:55.684269Z",
     "iopub.status.busy": "2024-10-13T05:39:55.683820Z",
     "iopub.status.idle": "2024-10-13T05:39:55.696299Z",
     "shell.execute_reply": "2024-10-13T05:39:55.695021Z",
     "shell.execute_reply.started": "2024-10-13T05:39:55.684226Z"
    },
    "trusted": true
   },
   "outputs": [
    {
     "data": {
      "text/plain": [
       "rating\n",
       "4 stars    444\n",
       "3 stars    352\n",
       "5 stars     16\n",
       "2 stars      9\n",
       "1 star       2\n",
       "Name: count, dtype: int64"
      ]
     },
     "execution_count": 165,
     "metadata": {},
     "output_type": "execute_result"
    }
   ],
   "source": [
    "df['rating'].value_counts()"
   ]
  },
  {
   "cell_type": "code",
   "execution_count": 166,
   "metadata": {
    "execution": {
     "iopub.execute_input": "2024-10-13T05:39:55.698842Z",
     "iopub.status.busy": "2024-10-13T05:39:55.698387Z",
     "iopub.status.idle": "2024-10-13T05:39:55.723516Z",
     "shell.execute_reply": "2024-10-13T05:39:55.721984Z",
     "shell.execute_reply.started": "2024-10-13T05:39:55.698783Z"
    },
    "trusted": true
   },
   "outputs": [
    {
     "data": {
      "text/html": [
       "<div>\n",
       "<style scoped>\n",
       "    .dataframe tbody tr th:only-of-type {\n",
       "        vertical-align: middle;\n",
       "    }\n",
       "\n",
       "    .dataframe tbody tr th {\n",
       "        vertical-align: top;\n",
       "    }\n",
       "\n",
       "    .dataframe thead th {\n",
       "        text-align: right;\n",
       "    }\n",
       "</style>\n",
       "<table border=\"1\" class=\"dataframe\">\n",
       "  <thead>\n",
       "    <tr style=\"text-align: right;\">\n",
       "      <th></th>\n",
       "      <th>brand</th>\n",
       "      <th>processor_brand</th>\n",
       "      <th>processor_name</th>\n",
       "      <th>RAM</th>\n",
       "      <th>ram_type</th>\n",
       "      <th>ssd</th>\n",
       "      <th>hdd</th>\n",
       "      <th>os</th>\n",
       "      <th>graphic_card_gb</th>\n",
       "      <th>weight</th>\n",
       "      <th>warranty</th>\n",
       "      <th>Touchscreen</th>\n",
       "      <th>msoffice</th>\n",
       "      <th>Price</th>\n",
       "      <th>rating</th>\n",
       "      <th>Number of Ratings</th>\n",
       "      <th>Number of Reviews</th>\n",
       "    </tr>\n",
       "  </thead>\n",
       "  <tbody>\n",
       "    <tr>\n",
       "      <th>200</th>\n",
       "      <td>DELL</td>\n",
       "      <td>Intel</td>\n",
       "      <td>Core i5</td>\n",
       "      <td>8</td>\n",
       "      <td>LPDDR4</td>\n",
       "      <td>0</td>\n",
       "      <td>1</td>\n",
       "      <td>DOS</td>\n",
       "      <td>4</td>\n",
       "      <td>Casual</td>\n",
       "      <td>1</td>\n",
       "      <td>No</td>\n",
       "      <td>No</td>\n",
       "      <td>11.128586</td>\n",
       "      <td>1 star</td>\n",
       "      <td>23</td>\n",
       "      <td>4</td>\n",
       "    </tr>\n",
       "    <tr>\n",
       "      <th>509</th>\n",
       "      <td>DELL</td>\n",
       "      <td>Intel</td>\n",
       "      <td>Core i7</td>\n",
       "      <td>16</td>\n",
       "      <td>DDR3</td>\n",
       "      <td>512</td>\n",
       "      <td>0</td>\n",
       "      <td>Windows</td>\n",
       "      <td>0</td>\n",
       "      <td>ThinNlight</td>\n",
       "      <td>1</td>\n",
       "      <td>No</td>\n",
       "      <td>Yes</td>\n",
       "      <td>11.710874</td>\n",
       "      <td>1 star</td>\n",
       "      <td>3</td>\n",
       "      <td>0</td>\n",
       "    </tr>\n",
       "  </tbody>\n",
       "</table>\n",
       "</div>"
      ],
      "text/plain": [
       "    brand processor_brand processor_name  RAM ram_type  ssd  hdd       os  \\\n",
       "200  DELL           Intel        Core i5    8   LPDDR4    0    1      DOS   \n",
       "509  DELL           Intel        Core i7   16     DDR3  512    0  Windows   \n",
       "\n",
       "     graphic_card_gb      weight  warranty Touchscreen msoffice      Price  \\\n",
       "200                4      Casual         1          No       No  11.128586   \n",
       "509                0  ThinNlight         1          No      Yes  11.710874   \n",
       "\n",
       "     rating  Number of Ratings  Number of Reviews  \n",
       "200  1 star                 23                  4  \n",
       "509  1 star                  3                  0  "
      ]
     },
     "execution_count": 166,
     "metadata": {},
     "output_type": "execute_result"
    }
   ],
   "source": [
    "df[df['rating'] == '1 star']"
   ]
  },
  {
   "cell_type": "code",
   "execution_count": 167,
   "metadata": {
    "execution": {
     "iopub.execute_input": "2024-10-13T05:39:55.725761Z",
     "iopub.status.busy": "2024-10-13T05:39:55.725225Z",
     "iopub.status.idle": "2024-10-13T05:39:55.735643Z",
     "shell.execute_reply": "2024-10-13T05:39:55.734124Z",
     "shell.execute_reply.started": "2024-10-13T05:39:55.725690Z"
    },
    "trusted": true
   },
   "outputs": [],
   "source": [
    "def fetch_rating(input):\n",
    "    if input == '1 star':\n",
    "        return 1\n",
    "    elif input == '2 stars':\n",
    "        return 2\n",
    "    elif input == '3 stars':\n",
    "        return 3\n",
    "    elif input == '4 stars':\n",
    "        return 4\n",
    "    else:\n",
    "        return 5"
   ]
  },
  {
   "cell_type": "code",
   "execution_count": 168,
   "metadata": {
    "execution": {
     "iopub.execute_input": "2024-10-13T05:39:55.738555Z",
     "iopub.status.busy": "2024-10-13T05:39:55.738037Z",
     "iopub.status.idle": "2024-10-13T05:39:55.746514Z",
     "shell.execute_reply": "2024-10-13T05:39:55.744982Z",
     "shell.execute_reply.started": "2024-10-13T05:39:55.738509Z"
    },
    "trusted": true
   },
   "outputs": [],
   "source": [
    "df['rating'] = df['rating'].apply(fetch_rating)"
   ]
  },
  {
   "cell_type": "code",
   "execution_count": 169,
   "metadata": {
    "execution": {
     "iopub.execute_input": "2024-10-13T05:39:55.748676Z",
     "iopub.status.busy": "2024-10-13T05:39:55.748259Z",
     "iopub.status.idle": "2024-10-13T05:39:56.112169Z",
     "shell.execute_reply": "2024-10-13T05:39:56.110608Z",
     "shell.execute_reply.started": "2024-10-13T05:39:55.748634Z"
    },
    "trusted": true
   },
   "outputs": [
    {
     "name": "stderr",
     "output_type": "stream",
     "text": [
      "/opt/conda/lib/python3.10/site-packages/seaborn/_oldcore.py:1119: FutureWarning: use_inf_as_na option is deprecated and will be removed in a future version. Convert inf values to NaN before operating instead.\n",
      "  with pd.option_context('mode.use_inf_as_na', True):\n"
     ]
    },
    {
     "data": {
      "image/png": "[encoded data removed]",
      "text/plain": [
       "<Figure size 640x480 with 1 Axes>"
      ]
     },
     "metadata": {},
     "output_type": "display_data"
    }
   ],
   "source": [
    "sns.kdeplot(df['Number of Ratings'])\n",
    "plt.show()"
   ]
  },
  {
   "cell_type": "code",
   "execution_count": 170,
   "metadata": {
    "execution": {
     "iopub.execute_input": "2024-10-13T05:39:56.115521Z",
     "iopub.status.busy": "2024-10-13T05:39:56.114535Z",
     "iopub.status.idle": "2024-10-13T05:39:56.448996Z",
     "shell.execute_reply": "2024-10-13T05:39:56.447477Z",
     "shell.execute_reply.started": "2024-10-13T05:39:56.115469Z"
    },
    "trusted": true
   },
   "outputs": [
    {
     "name": "stderr",
     "output_type": "stream",
     "text": [
      "/opt/conda/lib/python3.10/site-packages/seaborn/_oldcore.py:1119: FutureWarning: use_inf_as_na option is deprecated and will be removed in a future version. Convert inf values to NaN before operating instead.\n",
      "  with pd.option_context('mode.use_inf_as_na', True):\n"
     ]
    },
    {
     "data": {
      "image/png": "[encoded data removed]",
      "text/plain": [
       "<Figure size 640x480 with 1 Axes>"
      ]
     },
     "metadata": {},
     "output_type": "display_data"
    }
   ],
   "source": [
    "sns.kdeplot(df['Number of Reviews'])\n",
    "plt.show()"
   ]
  },
  {
   "cell_type": "code",
   "execution_count": 171,
   "metadata": {
    "execution": {
     "iopub.execute_input": "2024-10-13T05:39:56.451888Z",
     "iopub.status.busy": "2024-10-13T05:39:56.451043Z",
     "iopub.status.idle": "2024-10-13T05:39:56.496584Z",
     "shell.execute_reply": "2024-10-13T05:39:56.495068Z",
     "shell.execute_reply.started": "2024-10-13T05:39:56.451825Z"
    },
    "trusted": true
   },
   "outputs": [
    {
     "data": {
      "text/html": [
       "<div>\n",
       "<style scoped>\n",
       "    .dataframe tbody tr th:only-of-type {\n",
       "        vertical-align: middle;\n",
       "    }\n",
       "\n",
       "    .dataframe tbody tr th {\n",
       "        vertical-align: top;\n",
       "    }\n",
       "\n",
       "    .dataframe thead th {\n",
       "        text-align: right;\n",
       "    }\n",
       "</style>\n",
       "<table border=\"1\" class=\"dataframe\">\n",
       "  <thead>\n",
       "    <tr style=\"text-align: right;\">\n",
       "      <th></th>\n",
       "      <th>RAM</th>\n",
       "      <th>ssd</th>\n",
       "      <th>hdd</th>\n",
       "      <th>graphic_card_gb</th>\n",
       "      <th>warranty</th>\n",
       "      <th>Price</th>\n",
       "      <th>rating</th>\n",
       "      <th>Number of Ratings</th>\n",
       "      <th>Number of Reviews</th>\n",
       "    </tr>\n",
       "  </thead>\n",
       "  <tbody>\n",
       "    <tr>\n",
       "      <th>count</th>\n",
       "      <td>823.000000</td>\n",
       "      <td>823.000000</td>\n",
       "      <td>823.000000</td>\n",
       "      <td>823.000000</td>\n",
       "      <td>823.000000</td>\n",
       "      <td>823.000000</td>\n",
       "      <td>823.000000</td>\n",
       "      <td>823.000000</td>\n",
       "      <td>823.000000</td>\n",
       "    </tr>\n",
       "    <tr>\n",
       "      <th>mean</th>\n",
       "      <td>8.680437</td>\n",
       "      <td>452.121507</td>\n",
       "      <td>0.245443</td>\n",
       "      <td>1.190765</td>\n",
       "      <td>0.721750</td>\n",
       "      <td>11.118157</td>\n",
       "      <td>3.562576</td>\n",
       "      <td>315.301337</td>\n",
       "      <td>37.609964</td>\n",
       "    </tr>\n",
       "    <tr>\n",
       "      <th>std</th>\n",
       "      <td>4.372408</td>\n",
       "      <td>316.662592</td>\n",
       "      <td>0.430612</td>\n",
       "      <td>2.026902</td>\n",
       "      <td>0.593231</td>\n",
       "      <td>0.492275</td>\n",
       "      <td>0.567282</td>\n",
       "      <td>1047.382654</td>\n",
       "      <td>121.728017</td>\n",
       "    </tr>\n",
       "    <tr>\n",
       "      <th>min</th>\n",
       "      <td>4.000000</td>\n",
       "      <td>0.000000</td>\n",
       "      <td>0.000000</td>\n",
       "      <td>0.000000</td>\n",
       "      <td>0.000000</td>\n",
       "      <td>9.740380</td>\n",
       "      <td>1.000000</td>\n",
       "      <td>0.000000</td>\n",
       "      <td>0.000000</td>\n",
       "    </tr>\n",
       "    <tr>\n",
       "      <th>25%</th>\n",
       "      <td>4.000000</td>\n",
       "      <td>256.000000</td>\n",
       "      <td>0.000000</td>\n",
       "      <td>0.000000</td>\n",
       "      <td>0.000000</td>\n",
       "      <td>10.738457</td>\n",
       "      <td>3.000000</td>\n",
       "      <td>0.000000</td>\n",
       "      <td>0.000000</td>\n",
       "    </tr>\n",
       "    <tr>\n",
       "      <th>50%</th>\n",
       "      <td>8.000000</td>\n",
       "      <td>512.000000</td>\n",
       "      <td>0.000000</td>\n",
       "      <td>0.000000</td>\n",
       "      <td>1.000000</td>\n",
       "      <td>11.081989</td>\n",
       "      <td>4.000000</td>\n",
       "      <td>17.000000</td>\n",
       "      <td>2.000000</td>\n",
       "    </tr>\n",
       "    <tr>\n",
       "      <th>75%</th>\n",
       "      <td>8.000000</td>\n",
       "      <td>512.000000</td>\n",
       "      <td>0.000000</td>\n",
       "      <td>2.000000</td>\n",
       "      <td>1.000000</td>\n",
       "      <td>11.403512</td>\n",
       "      <td>4.000000</td>\n",
       "      <td>139.500000</td>\n",
       "      <td>18.000000</td>\n",
       "    </tr>\n",
       "    <tr>\n",
       "      <th>max</th>\n",
       "      <td>32.000000</td>\n",
       "      <td>3072.000000</td>\n",
       "      <td>1.000000</td>\n",
       "      <td>8.000000</td>\n",
       "      <td>3.000000</td>\n",
       "      <td>12.999043</td>\n",
       "      <td>5.000000</td>\n",
       "      <td>15279.000000</td>\n",
       "      <td>1947.000000</td>\n",
       "    </tr>\n",
       "  </tbody>\n",
       "</table>\n",
       "</div>"
      ],
      "text/plain": [
       "              RAM          ssd         hdd  graphic_card_gb    warranty  \\\n",
       "count  823.000000   823.000000  823.000000       823.000000  823.000000   \n",
       "mean     8.680437   452.121507    0.245443         1.190765    0.721750   \n",
       "std      4.372408   316.662592    0.430612         2.026902    0.593231   \n",
       "min      4.000000     0.000000    0.000000         0.000000    0.000000   \n",
       "25%      4.000000   256.000000    0.000000         0.000000    0.000000   \n",
       "50%      8.000000   512.000000    0.000000         0.000000    1.000000   \n",
       "75%      8.000000   512.000000    0.000000         2.000000    1.000000   \n",
       "max     32.000000  3072.000000    1.000000         8.000000    3.000000   \n",
       "\n",
       "            Price      rating  Number of Ratings  Number of Reviews  \n",
       "count  823.000000  823.000000         823.000000         823.000000  \n",
       "mean    11.118157    3.562576         315.301337          37.609964  \n",
       "std      0.492275    0.567282        1047.382654         121.728017  \n",
       "min      9.740380    1.000000           0.000000           0.000000  \n",
       "25%     10.738457    3.000000           0.000000           0.000000  \n",
       "50%     11.081989    4.000000          17.000000           2.000000  \n",
       "75%     11.403512    4.000000         139.500000          18.000000  \n",
       "max     12.999043    5.000000       15279.000000        1947.000000  "
      ]
     },
     "execution_count": 171,
     "metadata": {},
     "output_type": "execute_result"
    }
   ],
   "source": [
    "df.describe()"
   ]
  },
  {
   "cell_type": "code",
   "execution_count": 172,
   "metadata": {
    "execution": {
     "iopub.execute_input": "2024-10-13T05:39:56.498499Z",
     "iopub.status.busy": "2024-10-13T05:39:56.498095Z",
     "iopub.status.idle": "2024-10-13T05:39:56.505995Z",
     "shell.execute_reply": "2024-10-13T05:39:56.504757Z",
     "shell.execute_reply.started": "2024-10-13T05:39:56.498460Z"
    },
    "trusted": true
   },
   "outputs": [],
   "source": [
    "df_num = df.loc[:, ['RAM', 'hdd', 'graphic_card_gb', 'warranty', 'Price', 'rating', 'Number of Ratings', 'Number of Reviews']]"
   ]
  },
  {
   "cell_type": "code",
   "execution_count": 173,
   "metadata": {
    "execution": {
     "iopub.execute_input": "2024-10-13T05:39:56.508176Z",
     "iopub.status.busy": "2024-10-13T05:39:56.507712Z",
     "iopub.status.idle": "2024-10-13T05:39:56.535232Z",
     "shell.execute_reply": "2024-10-13T05:39:56.533966Z",
     "shell.execute_reply.started": "2024-10-13T05:39:56.508106Z"
    },
    "trusted": true
   },
   "outputs": [
    {
     "data": {
      "text/html": [
       "<div>\n",
       "<style scoped>\n",
       "    .dataframe tbody tr th:only-of-type {\n",
       "        vertical-align: middle;\n",
       "    }\n",
       "\n",
       "    .dataframe tbody tr th {\n",
       "        vertical-align: top;\n",
       "    }\n",
       "\n",
       "    .dataframe thead th {\n",
       "        text-align: right;\n",
       "    }\n",
       "</style>\n",
       "<table border=\"1\" class=\"dataframe\">\n",
       "  <thead>\n",
       "    <tr style=\"text-align: right;\">\n",
       "      <th></th>\n",
       "      <th>RAM</th>\n",
       "      <th>hdd</th>\n",
       "      <th>graphic_card_gb</th>\n",
       "      <th>warranty</th>\n",
       "      <th>Price</th>\n",
       "      <th>rating</th>\n",
       "      <th>Number of Ratings</th>\n",
       "      <th>Number of Reviews</th>\n",
       "    </tr>\n",
       "  </thead>\n",
       "  <tbody>\n",
       "    <tr>\n",
       "      <th>RAM</th>\n",
       "      <td>1.000000</td>\n",
       "      <td>-0.199945</td>\n",
       "      <td>0.278544</td>\n",
       "      <td>0.069329</td>\n",
       "      <td>0.550103</td>\n",
       "      <td>0.018126</td>\n",
       "      <td>-0.113348</td>\n",
       "      <td>-0.116811</td>\n",
       "    </tr>\n",
       "    <tr>\n",
       "      <th>hdd</th>\n",
       "      <td>-0.199945</td>\n",
       "      <td>1.000000</td>\n",
       "      <td>-0.034197</td>\n",
       "      <td>-0.179985</td>\n",
       "      <td>-0.317179</td>\n",
       "      <td>-0.087852</td>\n",
       "      <td>0.118851</td>\n",
       "      <td>0.131542</td>\n",
       "    </tr>\n",
       "    <tr>\n",
       "      <th>graphic_card_gb</th>\n",
       "      <td>0.278544</td>\n",
       "      <td>-0.034197</td>\n",
       "      <td>1.000000</td>\n",
       "      <td>-0.035730</td>\n",
       "      <td>0.483179</td>\n",
       "      <td>0.040920</td>\n",
       "      <td>-0.027118</td>\n",
       "      <td>-0.021457</td>\n",
       "    </tr>\n",
       "    <tr>\n",
       "      <th>warranty</th>\n",
       "      <td>0.069329</td>\n",
       "      <td>-0.179985</td>\n",
       "      <td>-0.035730</td>\n",
       "      <td>1.000000</td>\n",
       "      <td>0.112034</td>\n",
       "      <td>0.172904</td>\n",
       "      <td>0.066519</td>\n",
       "      <td>0.062176</td>\n",
       "    </tr>\n",
       "    <tr>\n",
       "      <th>Price</th>\n",
       "      <td>0.550103</td>\n",
       "      <td>-0.317179</td>\n",
       "      <td>0.483179</td>\n",
       "      <td>0.112034</td>\n",
       "      <td>1.000000</td>\n",
       "      <td>-0.028120</td>\n",
       "      <td>-0.177825</td>\n",
       "      <td>-0.192853</td>\n",
       "    </tr>\n",
       "    <tr>\n",
       "      <th>rating</th>\n",
       "      <td>0.018126</td>\n",
       "      <td>-0.087852</td>\n",
       "      <td>0.040920</td>\n",
       "      <td>0.172904</td>\n",
       "      <td>-0.028120</td>\n",
       "      <td>1.000000</td>\n",
       "      <td>0.155281</td>\n",
       "      <td>0.152241</td>\n",
       "    </tr>\n",
       "    <tr>\n",
       "      <th>Number of Ratings</th>\n",
       "      <td>-0.113348</td>\n",
       "      <td>0.118851</td>\n",
       "      <td>-0.027118</td>\n",
       "      <td>0.066519</td>\n",
       "      <td>-0.177825</td>\n",
       "      <td>0.155281</td>\n",
       "      <td>1.000000</td>\n",
       "      <td>0.989626</td>\n",
       "    </tr>\n",
       "    <tr>\n",
       "      <th>Number of Reviews</th>\n",
       "      <td>-0.116811</td>\n",
       "      <td>0.131542</td>\n",
       "      <td>-0.021457</td>\n",
       "      <td>0.062176</td>\n",
       "      <td>-0.192853</td>\n",
       "      <td>0.152241</td>\n",
       "      <td>0.989626</td>\n",
       "      <td>1.000000</td>\n",
       "    </tr>\n",
       "  </tbody>\n",
       "</table>\n",
       "</div>"
      ],
      "text/plain": [
       "                        RAM       hdd  graphic_card_gb  warranty     Price  \\\n",
       "RAM                1.000000 -0.199945         0.278544  0.069329  0.550103   \n",
       "hdd               -0.199945  1.000000        -0.034197 -0.179985 -0.317179   \n",
       "graphic_card_gb    0.278544 -0.034197         1.000000 -0.035730  0.483179   \n",
       "warranty           0.069329 -0.179985        -0.035730  1.000000  0.112034   \n",
       "Price              0.550103 -0.317179         0.483179  0.112034  1.000000   \n",
       "rating             0.018126 -0.087852         0.040920  0.172904 -0.028120   \n",
       "Number of Ratings -0.113348  0.118851        -0.027118  0.066519 -0.177825   \n",
       "Number of Reviews -0.116811  0.131542        -0.021457  0.062176 -0.192853   \n",
       "\n",
       "                     rating  Number of Ratings  Number of Reviews  \n",
       "RAM                0.018126          -0.113348          -0.116811  \n",
       "hdd               -0.087852           0.118851           0.131542  \n",
       "graphic_card_gb    0.040920          -0.027118          -0.021457  \n",
       "warranty           0.172904           0.066519           0.062176  \n",
       "Price             -0.028120          -0.177825          -0.192853  \n",
       "rating             1.000000           0.155281           0.152241  \n",
       "Number of Ratings  0.155281           1.000000           0.989626  \n",
       "Number of Reviews  0.152241           0.989626           1.000000  "
      ]
     },
     "execution_count": 173,
     "metadata": {},
     "output_type": "execute_result"
    }
   ],
   "source": [
    "df_num.corr()"
   ]
  },
  {
   "cell_type": "markdown",
   "metadata": {},
   "source": [
    "The last 2 columns are highly skewed and more than half of the values are 0. They are highly correlated to each other. Anyway reviews don't affect the prices of laptops in practical applications."
   ]
  },
  {
   "cell_type": "markdown",
   "metadata": {},
   "source": [
    "Rating has a negligible correlation with Price. So these 3 columns will be eremoved."
   ]
  },
  {
   "cell_type": "code",
   "execution_count": 174,
   "metadata": {
    "execution": {
     "iopub.execute_input": "2024-10-13T05:39:56.537088Z",
     "iopub.status.busy": "2024-10-13T05:39:56.536741Z",
     "iopub.status.idle": "2024-10-13T05:39:56.545921Z",
     "shell.execute_reply": "2024-10-13T05:39:56.544503Z",
     "shell.execute_reply.started": "2024-10-13T05:39:56.537045Z"
    },
    "trusted": true
   },
   "outputs": [],
   "source": [
    "df.drop(columns = ['rating', 'Number of Reviews', 'Number of Ratings'], inplace = True)"
   ]
  },
  {
   "cell_type": "code",
   "execution_count": 175,
   "metadata": {
    "execution": {
     "iopub.execute_input": "2024-10-13T05:39:56.548867Z",
     "iopub.status.busy": "2024-10-13T05:39:56.548368Z",
     "iopub.status.idle": "2024-10-13T05:39:56.577133Z",
     "shell.execute_reply": "2024-10-13T05:39:56.575730Z",
     "shell.execute_reply.started": "2024-10-13T05:39:56.548823Z"
    },
    "trusted": true
   },
   "outputs": [
    {
     "data": {
      "text/html": [
       "<div>\n",
       "<style scoped>\n",
       "    .dataframe tbody tr th:only-of-type {\n",
       "        vertical-align: middle;\n",
       "    }\n",
       "\n",
       "    .dataframe tbody tr th {\n",
       "        vertical-align: top;\n",
       "    }\n",
       "\n",
       "    .dataframe thead th {\n",
       "        text-align: right;\n",
       "    }\n",
       "</style>\n",
       "<table border=\"1\" class=\"dataframe\">\n",
       "  <thead>\n",
       "    <tr style=\"text-align: right;\">\n",
       "      <th></th>\n",
       "      <th>brand</th>\n",
       "      <th>processor_brand</th>\n",
       "      <th>processor_name</th>\n",
       "      <th>RAM</th>\n",
       "      <th>ram_type</th>\n",
       "      <th>ssd</th>\n",
       "      <th>hdd</th>\n",
       "      <th>os</th>\n",
       "      <th>graphic_card_gb</th>\n",
       "      <th>weight</th>\n",
       "      <th>warranty</th>\n",
       "      <th>Touchscreen</th>\n",
       "      <th>msoffice</th>\n",
       "      <th>Price</th>\n",
       "    </tr>\n",
       "  </thead>\n",
       "  <tbody>\n",
       "    <tr>\n",
       "      <th>0</th>\n",
       "      <td>ASUS</td>\n",
       "      <td>Intel</td>\n",
       "      <td>Core i3</td>\n",
       "      <td>4</td>\n",
       "      <td>DDR4</td>\n",
       "      <td>0</td>\n",
       "      <td>1</td>\n",
       "      <td>Windows</td>\n",
       "      <td>0</td>\n",
       "      <td>Casual</td>\n",
       "      <td>0</td>\n",
       "      <td>No</td>\n",
       "      <td>No</td>\n",
       "      <td>10.453024</td>\n",
       "    </tr>\n",
       "    <tr>\n",
       "      <th>1</th>\n",
       "      <td>Lenovo</td>\n",
       "      <td>Intel</td>\n",
       "      <td>Core i3</td>\n",
       "      <td>4</td>\n",
       "      <td>DDR4</td>\n",
       "      <td>0</td>\n",
       "      <td>1</td>\n",
       "      <td>Windows</td>\n",
       "      <td>0</td>\n",
       "      <td>Casual</td>\n",
       "      <td>0</td>\n",
       "      <td>No</td>\n",
       "      <td>No</td>\n",
       "      <td>10.571291</td>\n",
       "    </tr>\n",
       "    <tr>\n",
       "      <th>2</th>\n",
       "      <td>Lenovo</td>\n",
       "      <td>Intel</td>\n",
       "      <td>Core i3</td>\n",
       "      <td>4</td>\n",
       "      <td>DDR4</td>\n",
       "      <td>0</td>\n",
       "      <td>1</td>\n",
       "      <td>Windows</td>\n",
       "      <td>0</td>\n",
       "      <td>Casual</td>\n",
       "      <td>0</td>\n",
       "      <td>No</td>\n",
       "      <td>No</td>\n",
       "      <td>10.596610</td>\n",
       "    </tr>\n",
       "    <tr>\n",
       "      <th>3</th>\n",
       "      <td>ASUS</td>\n",
       "      <td>Intel</td>\n",
       "      <td>Core i5</td>\n",
       "      <td>8</td>\n",
       "      <td>DDR4</td>\n",
       "      <td>512</td>\n",
       "      <td>0</td>\n",
       "      <td>Windows</td>\n",
       "      <td>2</td>\n",
       "      <td>Casual</td>\n",
       "      <td>0</td>\n",
       "      <td>No</td>\n",
       "      <td>No</td>\n",
       "      <td>11.156108</td>\n",
       "    </tr>\n",
       "    <tr>\n",
       "      <th>4</th>\n",
       "      <td>ASUS</td>\n",
       "      <td>Intel</td>\n",
       "      <td>Celeron Dual</td>\n",
       "      <td>4</td>\n",
       "      <td>DDR4</td>\n",
       "      <td>0</td>\n",
       "      <td>1</td>\n",
       "      <td>Windows</td>\n",
       "      <td>0</td>\n",
       "      <td>Casual</td>\n",
       "      <td>0</td>\n",
       "      <td>No</td>\n",
       "      <td>No</td>\n",
       "      <td>10.203222</td>\n",
       "    </tr>\n",
       "    <tr>\n",
       "      <th>...</th>\n",
       "      <td>...</td>\n",
       "      <td>...</td>\n",
       "      <td>...</td>\n",
       "      <td>...</td>\n",
       "      <td>...</td>\n",
       "      <td>...</td>\n",
       "      <td>...</td>\n",
       "      <td>...</td>\n",
       "      <td>...</td>\n",
       "      <td>...</td>\n",
       "      <td>...</td>\n",
       "      <td>...</td>\n",
       "      <td>...</td>\n",
       "      <td>...</td>\n",
       "    </tr>\n",
       "    <tr>\n",
       "      <th>818</th>\n",
       "      <td>ASUS</td>\n",
       "      <td>AMD</td>\n",
       "      <td>Ryzen 9</td>\n",
       "      <td>4</td>\n",
       "      <td>DDR4</td>\n",
       "      <td>1024</td>\n",
       "      <td>0</td>\n",
       "      <td>Windows</td>\n",
       "      <td>0</td>\n",
       "      <td>Casual</td>\n",
       "      <td>1</td>\n",
       "      <td>No</td>\n",
       "      <td>No</td>\n",
       "      <td>11.820337</td>\n",
       "    </tr>\n",
       "    <tr>\n",
       "      <th>819</th>\n",
       "      <td>ASUS</td>\n",
       "      <td>AMD</td>\n",
       "      <td>Ryzen 9</td>\n",
       "      <td>4</td>\n",
       "      <td>DDR4</td>\n",
       "      <td>1024</td>\n",
       "      <td>0</td>\n",
       "      <td>Windows</td>\n",
       "      <td>0</td>\n",
       "      <td>Casual</td>\n",
       "      <td>1</td>\n",
       "      <td>No</td>\n",
       "      <td>No</td>\n",
       "      <td>11.884420</td>\n",
       "    </tr>\n",
       "    <tr>\n",
       "      <th>820</th>\n",
       "      <td>ASUS</td>\n",
       "      <td>AMD</td>\n",
       "      <td>Ryzen 9</td>\n",
       "      <td>4</td>\n",
       "      <td>DDR4</td>\n",
       "      <td>1024</td>\n",
       "      <td>0</td>\n",
       "      <td>Windows</td>\n",
       "      <td>4</td>\n",
       "      <td>Casual</td>\n",
       "      <td>1</td>\n",
       "      <td>No</td>\n",
       "      <td>No</td>\n",
       "      <td>11.918324</td>\n",
       "    </tr>\n",
       "    <tr>\n",
       "      <th>821</th>\n",
       "      <td>ASUS</td>\n",
       "      <td>AMD</td>\n",
       "      <td>Ryzen 9</td>\n",
       "      <td>4</td>\n",
       "      <td>DDR4</td>\n",
       "      <td>1024</td>\n",
       "      <td>0</td>\n",
       "      <td>Windows</td>\n",
       "      <td>4</td>\n",
       "      <td>Casual</td>\n",
       "      <td>1</td>\n",
       "      <td>No</td>\n",
       "      <td>No</td>\n",
       "      <td>11.870530</td>\n",
       "    </tr>\n",
       "    <tr>\n",
       "      <th>822</th>\n",
       "      <td>Lenovo</td>\n",
       "      <td>AMD</td>\n",
       "      <td>Ryzen 5</td>\n",
       "      <td>8</td>\n",
       "      <td>DDR4</td>\n",
       "      <td>512</td>\n",
       "      <td>0</td>\n",
       "      <td>DOS</td>\n",
       "      <td>0</td>\n",
       "      <td>ThinNlight</td>\n",
       "      <td>0</td>\n",
       "      <td>No</td>\n",
       "      <td>No</td>\n",
       "      <td>10.959366</td>\n",
       "    </tr>\n",
       "  </tbody>\n",
       "</table>\n",
       "<p>823 rows × 14 columns</p>\n",
       "</div>"
      ],
      "text/plain": [
       "      brand processor_brand processor_name  RAM ram_type   ssd  hdd       os  \\\n",
       "0      ASUS           Intel        Core i3    4     DDR4     0    1  Windows   \n",
       "1    Lenovo           Intel        Core i3    4     DDR4     0    1  Windows   \n",
       "2    Lenovo           Intel        Core i3    4     DDR4     0    1  Windows   \n",
       "3      ASUS           Intel        Core i5    8     DDR4   512    0  Windows   \n",
       "4      ASUS           Intel   Celeron Dual    4     DDR4     0    1  Windows   \n",
       "..      ...             ...            ...  ...      ...   ...  ...      ...   \n",
       "818    ASUS             AMD        Ryzen 9    4     DDR4  1024    0  Windows   \n",
       "819    ASUS             AMD        Ryzen 9    4     DDR4  1024    0  Windows   \n",
       "820    ASUS             AMD        Ryzen 9    4     DDR4  1024    0  Windows   \n",
       "821    ASUS             AMD        Ryzen 9    4     DDR4  1024    0  Windows   \n",
       "822  Lenovo             AMD        Ryzen 5    8     DDR4   512    0      DOS   \n",
       "\n",
       "     graphic_card_gb      weight  warranty Touchscreen msoffice      Price  \n",
       "0                  0      Casual         0          No       No  10.453024  \n",
       "1                  0      Casual         0          No       No  10.571291  \n",
       "2                  0      Casual         0          No       No  10.596610  \n",
       "3                  2      Casual         0          No       No  11.156108  \n",
       "4                  0      Casual         0          No       No  10.203222  \n",
       "..               ...         ...       ...         ...      ...        ...  \n",
       "818                0      Casual         1          No       No  11.820337  \n",
       "819                0      Casual         1          No       No  11.884420  \n",
       "820                4      Casual         1          No       No  11.918324  \n",
       "821                4      Casual         1          No       No  11.870530  \n",
       "822                0  ThinNlight         0          No       No  10.959366  \n",
       "\n",
       "[823 rows x 14 columns]"
      ]
     },
     "execution_count": 175,
     "metadata": {},
     "output_type": "execute_result"
    }
   ],
   "source": [
    "df"
   ]
  },
  {
   "cell_type": "code",
   "execution_count": 176,
   "metadata": {
    "execution": {
     "iopub.execute_input": "2024-10-13T05:39:56.579418Z",
     "iopub.status.busy": "2024-10-13T05:39:56.578988Z",
     "iopub.status.idle": "2024-10-13T05:39:56.587781Z",
     "shell.execute_reply": "2024-10-13T05:39:56.586218Z",
     "shell.execute_reply.started": "2024-10-13T05:39:56.579376Z"
    },
    "trusted": true
   },
   "outputs": [],
   "source": [
    "X = df.drop('Price', axis = 1)\n",
    "y = df['Price']"
   ]
  },
  {
   "cell_type": "code",
   "execution_count": 177,
   "metadata": {
    "execution": {
     "iopub.execute_input": "2024-10-13T05:39:56.590217Z",
     "iopub.status.busy": "2024-10-13T05:39:56.589719Z",
     "iopub.status.idle": "2024-10-13T05:39:56.603831Z",
     "shell.execute_reply": "2024-10-13T05:39:56.602361Z",
     "shell.execute_reply.started": "2024-10-13T05:39:56.590132Z"
    },
    "trusted": true
   },
   "outputs": [],
   "source": [
    "from sklearn.model_selection import train_test_split\n",
    "X_train, X_test, y_train, y_test = train_test_split(X, y, test_size = 0.26, random_state = 4)"
   ]
  },
  {
   "cell_type": "code",
   "execution_count": 178,
   "metadata": {
    "execution": {
     "iopub.execute_input": "2024-10-13T05:39:56.606983Z",
     "iopub.status.busy": "2024-10-13T05:39:56.605970Z",
     "iopub.status.idle": "2024-10-13T05:39:56.613838Z",
     "shell.execute_reply": "2024-10-13T05:39:56.612536Z",
     "shell.execute_reply.started": "2024-10-13T05:39:56.606920Z"
    },
    "trusted": true
   },
   "outputs": [],
   "source": [
    "from sklearn.preprocessing import OneHotEncoder\n",
    "from sklearn.compose import ColumnTransformer\n",
    "from sklearn.pipeline import Pipeline"
   ]
  },
  {
   "cell_type": "code",
   "execution_count": 179,
   "metadata": {
    "execution": {
     "iopub.execute_input": "2024-10-13T05:39:56.615845Z",
     "iopub.status.busy": "2024-10-13T05:39:56.615446Z",
     "iopub.status.idle": "2024-10-13T05:39:56.626912Z",
     "shell.execute_reply": "2024-10-13T05:39:56.625655Z",
     "shell.execute_reply.started": "2024-10-13T05:39:56.615804Z"
    },
    "trusted": true
   },
   "outputs": [],
   "source": [
    "trans = ColumnTransformer(transformers = [\n",
    "    ('ohe', OneHotEncoder(sparse_output = False, drop = 'first'), [0, 1, 2, 4, 7, 9, 11, 12])\n",
    "], remainder = 'passthrough')"
   ]
  },
  {
   "cell_type": "code",
   "execution_count": 180,
   "metadata": {
    "execution": {
     "iopub.execute_input": "2024-10-13T05:39:56.628842Z",
     "iopub.status.busy": "2024-10-13T05:39:56.628460Z",
     "iopub.status.idle": "2024-10-13T05:39:56.637231Z",
     "shell.execute_reply": "2024-10-13T05:39:56.635731Z",
     "shell.execute_reply.started": "2024-10-13T05:39:56.628803Z"
    },
    "trusted": true
   },
   "outputs": [],
   "source": [
    "pipe = Pipeline([\n",
    "    ('transformation', trans)\n",
    "])"
   ]
  },
  {
   "cell_type": "code",
   "execution_count": 181,
   "metadata": {
    "execution": {
     "iopub.execute_input": "2024-10-13T05:39:56.639088Z",
     "iopub.status.busy": "2024-10-13T05:39:56.638720Z",
     "iopub.status.idle": "2024-10-13T05:39:56.668821Z",
     "shell.execute_reply": "2024-10-13T05:39:56.667369Z",
     "shell.execute_reply.started": "2024-10-13T05:39:56.639048Z"
    },
    "trusted": true
   },
   "outputs": [],
   "source": [
    "X_train_transformed = pipe.fit_transform(X_train)\n",
    "X_test_transformed = pipe.transform(X_test)"
   ]
  },
  {
   "cell_type": "code",
   "execution_count": 182,
   "metadata": {
    "execution": {
     "iopub.execute_input": "2024-10-13T05:39:56.670496Z",
     "iopub.status.busy": "2024-10-13T05:39:56.670110Z",
     "iopub.status.idle": "2024-10-13T05:39:56.680130Z",
     "shell.execute_reply": "2024-10-13T05:39:56.678494Z",
     "shell.execute_reply.started": "2024-10-13T05:39:56.670458Z"
    },
    "trusted": true
   },
   "outputs": [],
   "source": [
    "X_train = pd.DataFrame(X_train_transformed, columns=pipe.named_steps['transformation'].get_feature_names_out())\n",
    "X_test = pd.DataFrame(X_test_transformed, columns=pipe.named_steps['transformation'].get_feature_names_out())"
   ]
  },
  {
   "cell_type": "code",
   "execution_count": 183,
   "metadata": {
    "execution": {
     "iopub.execute_input": "2024-10-13T05:39:56.682942Z",
     "iopub.status.busy": "2024-10-13T05:39:56.682457Z",
     "iopub.status.idle": "2024-10-13T05:39:56.736089Z",
     "shell.execute_reply": "2024-10-13T05:39:56.734658Z",
     "shell.execute_reply.started": "2024-10-13T05:39:56.682899Z"
    },
    "trusted": true
   },
   "outputs": [
    {
     "data": {
      "text/html": [
       "<div>\n",
       "<style scoped>\n",
       "    .dataframe tbody tr th:only-of-type {\n",
       "        vertical-align: middle;\n",
       "    }\n",
       "\n",
       "    .dataframe tbody tr th {\n",
       "        vertical-align: top;\n",
       "    }\n",
       "\n",
       "    .dataframe thead th {\n",
       "        text-align: right;\n",
       "    }\n",
       "</style>\n",
       "<table border=\"1\" class=\"dataframe\">\n",
       "  <thead>\n",
       "    <tr style=\"text-align: right;\">\n",
       "      <th></th>\n",
       "      <th>ohe__brand_ASUS</th>\n",
       "      <th>ohe__brand_Avita</th>\n",
       "      <th>ohe__brand_DELL</th>\n",
       "      <th>ohe__brand_HP</th>\n",
       "      <th>ohe__brand_Lenovo</th>\n",
       "      <th>ohe__brand_MSI</th>\n",
       "      <th>ohe__brand_acer</th>\n",
       "      <th>ohe__processor_brand_Intel</th>\n",
       "      <th>ohe__processor_brand_M1</th>\n",
       "      <th>ohe__processor_name_Core i3</th>\n",
       "      <th>...</th>\n",
       "      <th>ohe__os_Windows</th>\n",
       "      <th>ohe__weight_Gaming</th>\n",
       "      <th>ohe__weight_ThinNlight</th>\n",
       "      <th>ohe__Touchscreen_Yes</th>\n",
       "      <th>ohe__msoffice_Yes</th>\n",
       "      <th>remainder__RAM</th>\n",
       "      <th>remainder__ssd</th>\n",
       "      <th>remainder__hdd</th>\n",
       "      <th>remainder__graphic_card_gb</th>\n",
       "      <th>remainder__warranty</th>\n",
       "    </tr>\n",
       "  </thead>\n",
       "  <tbody>\n",
       "    <tr>\n",
       "      <th>0</th>\n",
       "      <td>0.0</td>\n",
       "      <td>0.0</td>\n",
       "      <td>0.0</td>\n",
       "      <td>1.0</td>\n",
       "      <td>0.0</td>\n",
       "      <td>0.0</td>\n",
       "      <td>0.0</td>\n",
       "      <td>0.0</td>\n",
       "      <td>0.0</td>\n",
       "      <td>0.0</td>\n",
       "      <td>...</td>\n",
       "      <td>1.0</td>\n",
       "      <td>0.0</td>\n",
       "      <td>1.0</td>\n",
       "      <td>0.0</td>\n",
       "      <td>1.0</td>\n",
       "      <td>16.0</td>\n",
       "      <td>512.0</td>\n",
       "      <td>0.0</td>\n",
       "      <td>0.0</td>\n",
       "      <td>1.0</td>\n",
       "    </tr>\n",
       "    <tr>\n",
       "      <th>1</th>\n",
       "      <td>0.0</td>\n",
       "      <td>0.0</td>\n",
       "      <td>0.0</td>\n",
       "      <td>1.0</td>\n",
       "      <td>0.0</td>\n",
       "      <td>0.0</td>\n",
       "      <td>0.0</td>\n",
       "      <td>1.0</td>\n",
       "      <td>0.0</td>\n",
       "      <td>1.0</td>\n",
       "      <td>...</td>\n",
       "      <td>1.0</td>\n",
       "      <td>0.0</td>\n",
       "      <td>1.0</td>\n",
       "      <td>0.0</td>\n",
       "      <td>1.0</td>\n",
       "      <td>8.0</td>\n",
       "      <td>0.0</td>\n",
       "      <td>1.0</td>\n",
       "      <td>0.0</td>\n",
       "      <td>1.0</td>\n",
       "    </tr>\n",
       "    <tr>\n",
       "      <th>2</th>\n",
       "      <td>0.0</td>\n",
       "      <td>0.0</td>\n",
       "      <td>1.0</td>\n",
       "      <td>0.0</td>\n",
       "      <td>0.0</td>\n",
       "      <td>0.0</td>\n",
       "      <td>0.0</td>\n",
       "      <td>1.0</td>\n",
       "      <td>0.0</td>\n",
       "      <td>0.0</td>\n",
       "      <td>...</td>\n",
       "      <td>1.0</td>\n",
       "      <td>0.0</td>\n",
       "      <td>1.0</td>\n",
       "      <td>0.0</td>\n",
       "      <td>0.0</td>\n",
       "      <td>8.0</td>\n",
       "      <td>512.0</td>\n",
       "      <td>0.0</td>\n",
       "      <td>2.0</td>\n",
       "      <td>3.0</td>\n",
       "    </tr>\n",
       "    <tr>\n",
       "      <th>3</th>\n",
       "      <td>0.0</td>\n",
       "      <td>0.0</td>\n",
       "      <td>0.0</td>\n",
       "      <td>0.0</td>\n",
       "      <td>1.0</td>\n",
       "      <td>0.0</td>\n",
       "      <td>0.0</td>\n",
       "      <td>0.0</td>\n",
       "      <td>0.0</td>\n",
       "      <td>0.0</td>\n",
       "      <td>...</td>\n",
       "      <td>1.0</td>\n",
       "      <td>0.0</td>\n",
       "      <td>0.0</td>\n",
       "      <td>1.0</td>\n",
       "      <td>1.0</td>\n",
       "      <td>4.0</td>\n",
       "      <td>512.0</td>\n",
       "      <td>0.0</td>\n",
       "      <td>0.0</td>\n",
       "      <td>3.0</td>\n",
       "    </tr>\n",
       "    <tr>\n",
       "      <th>4</th>\n",
       "      <td>0.0</td>\n",
       "      <td>0.0</td>\n",
       "      <td>1.0</td>\n",
       "      <td>0.0</td>\n",
       "      <td>0.0</td>\n",
       "      <td>0.0</td>\n",
       "      <td>0.0</td>\n",
       "      <td>1.0</td>\n",
       "      <td>0.0</td>\n",
       "      <td>0.0</td>\n",
       "      <td>...</td>\n",
       "      <td>1.0</td>\n",
       "      <td>0.0</td>\n",
       "      <td>0.0</td>\n",
       "      <td>0.0</td>\n",
       "      <td>1.0</td>\n",
       "      <td>8.0</td>\n",
       "      <td>0.0</td>\n",
       "      <td>1.0</td>\n",
       "      <td>2.0</td>\n",
       "      <td>1.0</td>\n",
       "    </tr>\n",
       "    <tr>\n",
       "      <th>...</th>\n",
       "      <td>...</td>\n",
       "      <td>...</td>\n",
       "      <td>...</td>\n",
       "      <td>...</td>\n",
       "      <td>...</td>\n",
       "      <td>...</td>\n",
       "      <td>...</td>\n",
       "      <td>...</td>\n",
       "      <td>...</td>\n",
       "      <td>...</td>\n",
       "      <td>...</td>\n",
       "      <td>...</td>\n",
       "      <td>...</td>\n",
       "      <td>...</td>\n",
       "      <td>...</td>\n",
       "      <td>...</td>\n",
       "      <td>...</td>\n",
       "      <td>...</td>\n",
       "      <td>...</td>\n",
       "      <td>...</td>\n",
       "      <td>...</td>\n",
       "    </tr>\n",
       "    <tr>\n",
       "      <th>604</th>\n",
       "      <td>0.0</td>\n",
       "      <td>0.0</td>\n",
       "      <td>1.0</td>\n",
       "      <td>0.0</td>\n",
       "      <td>0.0</td>\n",
       "      <td>0.0</td>\n",
       "      <td>0.0</td>\n",
       "      <td>1.0</td>\n",
       "      <td>0.0</td>\n",
       "      <td>0.0</td>\n",
       "      <td>...</td>\n",
       "      <td>1.0</td>\n",
       "      <td>0.0</td>\n",
       "      <td>0.0</td>\n",
       "      <td>0.0</td>\n",
       "      <td>0.0</td>\n",
       "      <td>8.0</td>\n",
       "      <td>512.0</td>\n",
       "      <td>0.0</td>\n",
       "      <td>2.0</td>\n",
       "      <td>0.0</td>\n",
       "    </tr>\n",
       "    <tr>\n",
       "      <th>605</th>\n",
       "      <td>0.0</td>\n",
       "      <td>0.0</td>\n",
       "      <td>0.0</td>\n",
       "      <td>0.0</td>\n",
       "      <td>1.0</td>\n",
       "      <td>0.0</td>\n",
       "      <td>0.0</td>\n",
       "      <td>0.0</td>\n",
       "      <td>0.0</td>\n",
       "      <td>0.0</td>\n",
       "      <td>...</td>\n",
       "      <td>1.0</td>\n",
       "      <td>0.0</td>\n",
       "      <td>0.0</td>\n",
       "      <td>0.0</td>\n",
       "      <td>0.0</td>\n",
       "      <td>4.0</td>\n",
       "      <td>512.0</td>\n",
       "      <td>0.0</td>\n",
       "      <td>4.0</td>\n",
       "      <td>0.0</td>\n",
       "    </tr>\n",
       "    <tr>\n",
       "      <th>606</th>\n",
       "      <td>0.0</td>\n",
       "      <td>0.0</td>\n",
       "      <td>0.0</td>\n",
       "      <td>0.0</td>\n",
       "      <td>0.0</td>\n",
       "      <td>0.0</td>\n",
       "      <td>1.0</td>\n",
       "      <td>1.0</td>\n",
       "      <td>0.0</td>\n",
       "      <td>0.0</td>\n",
       "      <td>...</td>\n",
       "      <td>1.0</td>\n",
       "      <td>0.0</td>\n",
       "      <td>0.0</td>\n",
       "      <td>0.0</td>\n",
       "      <td>0.0</td>\n",
       "      <td>8.0</td>\n",
       "      <td>0.0</td>\n",
       "      <td>1.0</td>\n",
       "      <td>2.0</td>\n",
       "      <td>1.0</td>\n",
       "    </tr>\n",
       "    <tr>\n",
       "      <th>607</th>\n",
       "      <td>1.0</td>\n",
       "      <td>0.0</td>\n",
       "      <td>0.0</td>\n",
       "      <td>0.0</td>\n",
       "      <td>0.0</td>\n",
       "      <td>0.0</td>\n",
       "      <td>0.0</td>\n",
       "      <td>1.0</td>\n",
       "      <td>0.0</td>\n",
       "      <td>1.0</td>\n",
       "      <td>...</td>\n",
       "      <td>1.0</td>\n",
       "      <td>0.0</td>\n",
       "      <td>0.0</td>\n",
       "      <td>0.0</td>\n",
       "      <td>1.0</td>\n",
       "      <td>8.0</td>\n",
       "      <td>256.0</td>\n",
       "      <td>1.0</td>\n",
       "      <td>0.0</td>\n",
       "      <td>1.0</td>\n",
       "    </tr>\n",
       "    <tr>\n",
       "      <th>608</th>\n",
       "      <td>1.0</td>\n",
       "      <td>0.0</td>\n",
       "      <td>0.0</td>\n",
       "      <td>0.0</td>\n",
       "      <td>0.0</td>\n",
       "      <td>0.0</td>\n",
       "      <td>0.0</td>\n",
       "      <td>1.0</td>\n",
       "      <td>0.0</td>\n",
       "      <td>1.0</td>\n",
       "      <td>...</td>\n",
       "      <td>1.0</td>\n",
       "      <td>0.0</td>\n",
       "      <td>0.0</td>\n",
       "      <td>0.0</td>\n",
       "      <td>0.0</td>\n",
       "      <td>4.0</td>\n",
       "      <td>512.0</td>\n",
       "      <td>0.0</td>\n",
       "      <td>0.0</td>\n",
       "      <td>1.0</td>\n",
       "    </tr>\n",
       "  </tbody>\n",
       "</table>\n",
       "<p>609 rows × 35 columns</p>\n",
       "</div>"
      ],
      "text/plain": [
       "     ohe__brand_ASUS  ohe__brand_Avita  ohe__brand_DELL  ohe__brand_HP  \\\n",
       "0                0.0               0.0              0.0            1.0   \n",
       "1                0.0               0.0              0.0            1.0   \n",
       "2                0.0               0.0              1.0            0.0   \n",
       "3                0.0               0.0              0.0            0.0   \n",
       "4                0.0               0.0              1.0            0.0   \n",
       "..               ...               ...              ...            ...   \n",
       "604              0.0               0.0              1.0            0.0   \n",
       "605              0.0               0.0              0.0            0.0   \n",
       "606              0.0               0.0              0.0            0.0   \n",
       "607              1.0               0.0              0.0            0.0   \n",
       "608              1.0               0.0              0.0            0.0   \n",
       "\n",
       "     ohe__brand_Lenovo  ohe__brand_MSI  ohe__brand_acer  \\\n",
       "0                  0.0             0.0              0.0   \n",
       "1                  0.0             0.0              0.0   \n",
       "2                  0.0             0.0              0.0   \n",
       "3                  1.0             0.0              0.0   \n",
       "4                  0.0             0.0              0.0   \n",
       "..                 ...             ...              ...   \n",
       "604                0.0             0.0              0.0   \n",
       "605                1.0             0.0              0.0   \n",
       "606                0.0             0.0              1.0   \n",
       "607                0.0             0.0              0.0   \n",
       "608                0.0             0.0              0.0   \n",
       "\n",
       "     ohe__processor_brand_Intel  ohe__processor_brand_M1  \\\n",
       "0                           0.0                      0.0   \n",
       "1                           1.0                      0.0   \n",
       "2                           1.0                      0.0   \n",
       "3                           0.0                      0.0   \n",
       "4                           1.0                      0.0   \n",
       "..                          ...                      ...   \n",
       "604                         1.0                      0.0   \n",
       "605                         0.0                      0.0   \n",
       "606                         1.0                      0.0   \n",
       "607                         1.0                      0.0   \n",
       "608                         1.0                      0.0   \n",
       "\n",
       "     ohe__processor_name_Core i3  ...  ohe__os_Windows  ohe__weight_Gaming  \\\n",
       "0                            0.0  ...              1.0                 0.0   \n",
       "1                            1.0  ...              1.0                 0.0   \n",
       "2                            0.0  ...              1.0                 0.0   \n",
       "3                            0.0  ...              1.0                 0.0   \n",
       "4                            0.0  ...              1.0                 0.0   \n",
       "..                           ...  ...              ...                 ...   \n",
       "604                          0.0  ...              1.0                 0.0   \n",
       "605                          0.0  ...              1.0                 0.0   \n",
       "606                          0.0  ...              1.0                 0.0   \n",
       "607                          1.0  ...              1.0                 0.0   \n",
       "608                          1.0  ...              1.0                 0.0   \n",
       "\n",
       "     ohe__weight_ThinNlight  ohe__Touchscreen_Yes  ohe__msoffice_Yes  \\\n",
       "0                       1.0                   0.0                1.0   \n",
       "1                       1.0                   0.0                1.0   \n",
       "2                       1.0                   0.0                0.0   \n",
       "3                       0.0                   1.0                1.0   \n",
       "4                       0.0                   0.0                1.0   \n",
       "..                      ...                   ...                ...   \n",
       "604                     0.0                   0.0                0.0   \n",
       "605                     0.0                   0.0                0.0   \n",
       "606                     0.0                   0.0                0.0   \n",
       "607                     0.0                   0.0                1.0   \n",
       "608                     0.0                   0.0                0.0   \n",
       "\n",
       "     remainder__RAM  remainder__ssd  remainder__hdd  \\\n",
       "0              16.0           512.0             0.0   \n",
       "1               8.0             0.0             1.0   \n",
       "2               8.0           512.0             0.0   \n",
       "3               4.0           512.0             0.0   \n",
       "4               8.0             0.0             1.0   \n",
       "..              ...             ...             ...   \n",
       "604             8.0           512.0             0.0   \n",
       "605             4.0           512.0             0.0   \n",
       "606             8.0             0.0             1.0   \n",
       "607             8.0           256.0             1.0   \n",
       "608             4.0           512.0             0.0   \n",
       "\n",
       "     remainder__graphic_card_gb  remainder__warranty  \n",
       "0                           0.0                  1.0  \n",
       "1                           0.0                  1.0  \n",
       "2                           2.0                  3.0  \n",
       "3                           0.0                  3.0  \n",
       "4                           2.0                  1.0  \n",
       "..                          ...                  ...  \n",
       "604                         2.0                  0.0  \n",
       "605                         4.0                  0.0  \n",
       "606                         2.0                  1.0  \n",
       "607                         0.0                  1.0  \n",
       "608                         0.0                  1.0  \n",
       "\n",
       "[609 rows x 35 columns]"
      ]
     },
     "execution_count": 183,
     "metadata": {},
     "output_type": "execute_result"
    }
   ],
   "source": [
    "X_train"
   ]
  },
  {
   "cell_type": "markdown",
   "metadata": {},
   "source": [
    "## Model building"
   ]
  },
  {
   "cell_type": "code",
   "execution_count": 26,
   "metadata": {
    "execution": {
     "iopub.execute_input": "2024-10-13T05:39:56.738926Z",
     "iopub.status.busy": "2024-10-13T05:39:56.738407Z",
     "iopub.status.idle": "2024-10-13T05:39:57.138489Z",
     "shell.execute_reply": "2024-10-13T05:39:57.137048Z",
     "shell.execute_reply.started": "2024-10-13T05:39:56.738872Z"
    },
    "trusted": true
   },
   "outputs": [
    {
     "ename": "ModuleNotFoundError",
     "evalue": "No module named 'sklearn'",
     "output_type": "error",
     "traceback": [
      "\u001b[1;31m---------------------------------------------------------------------------\u001b[0m",
      "\u001b[1;31mModuleNotFoundError\u001b[0m                       Traceback (most recent call last)",
      "Cell \u001b[1;32mIn[26], line 1\u001b[0m\n\u001b[1;32m----> 1\u001b[0m \u001b[38;5;28;01mfrom\u001b[39;00m \u001b[38;5;21;01msklearn\u001b[39;00m\u001b[38;5;21;01m.\u001b[39;00m\u001b[38;5;21;01mensemble\u001b[39;00m \u001b[38;5;28;01mimport\u001b[39;00m RandomForestRegressor\n\u001b[0;32m      2\u001b[0m \u001b[38;5;28;01mfrom\u001b[39;00m \u001b[38;5;21;01msklearn\u001b[39;00m\u001b[38;5;21;01m.\u001b[39;00m\u001b[38;5;21;01mmodel_selection\u001b[39;00m \u001b[38;5;28;01mimport\u001b[39;00m GridSearchCV\n\u001b[0;32m      3\u001b[0m \u001b[38;5;28;01mfrom\u001b[39;00m \u001b[38;5;21;01msklearn\u001b[39;00m\u001b[38;5;21;01m.\u001b[39;00m\u001b[38;5;21;01mmetrics\u001b[39;00m \u001b[38;5;28;01mimport\u001b[39;00m mean_squared_error\n",
      "\u001b[1;31mModuleNotFoundError\u001b[0m: No module named 'sklearn'"
     ]
    }
   ],
   "source": [
    "from sklearn.ensemble import RandomForestRegressor\n",
    "from sklearn.model_selection import GridSearchCV\n",
    "from sklearn.metrics import mean_squared_error\n",
    "from sklearn.metrics import r2_score\n",
    "\n",
    "rf = RandomForestRegressor()\n",
    "rf.fit(X_train, y_train)\n",
    "rf_pred = rf.predict(X_test)\n",
    "print(r2_score(y_test, rf_pred))"
   ]
  },
  {
   "cell_type": "code",
   "execution_count": 185,
   "metadata": {
    "execution": {
     "iopub.execute_input": "2024-10-13T05:39:57.140784Z",
     "iopub.status.busy": "2024-10-13T05:39:57.140303Z",
     "iopub.status.idle": "2024-10-13T05:39:58.461091Z",
     "shell.execute_reply": "2024-10-13T05:39:58.459561Z",
     "shell.execute_reply.started": "2024-10-13T05:39:57.140739Z"
    },
    "trusted": true
   },
   "outputs": [
    {
     "data": {
      "text/plain": [
       "0.8344606642510236"
      ]
     },
     "execution_count": 185,
     "metadata": {},
     "output_type": "execute_result"
    }
   ],
   "source": [
    "from sklearn.model_selection import cross_val_score\n",
    "cross_val_score(estimator = rf, X = X_train, y = y_train, scoring = 'r2', cv = 4).mean()"
   ]
  },
  {
   "cell_type": "code",
   "execution_count": 24,
   "metadata": {
    "execution": {
     "iopub.execute_input": "2024-10-13T05:39:58.463335Z",
     "iopub.status.busy": "2024-10-13T05:39:58.462774Z",
     "iopub.status.idle": "2024-10-13T05:40:26.933295Z",
     "shell.execute_reply": "2024-10-13T05:40:26.932083Z",
     "shell.execute_reply.started": "2024-10-13T05:39:58.463279Z"
    },
    "trusted": true
   },
   "outputs": [
    {
     "ename": "NameError",
     "evalue": "name 'GridSearchCV' is not defined",
     "output_type": "error",
     "traceback": [
      "\u001b[1;31m---------------------------------------------------------------------------\u001b[0m",
      "\u001b[1;31mNameError\u001b[0m                                 Traceback (most recent call last)",
      "Cell \u001b[1;32mIn[24], line 2\u001b[0m\n\u001b[0;32m      1\u001b[0m parameters \u001b[38;5;241m=\u001b[39m [{\u001b[38;5;124m'\u001b[39m\u001b[38;5;124mmax_samples\u001b[39m\u001b[38;5;124m'\u001b[39m:[\u001b[38;5;241m0.7\u001b[39m, \u001b[38;5;241m0.77\u001b[39m, \u001b[38;5;241m0.85\u001b[39m, \u001b[38;5;241m0.92\u001b[39m, \u001b[38;5;241m1\u001b[39m], \u001b[38;5;124m'\u001b[39m\u001b[38;5;124mmax_depth\u001b[39m\u001b[38;5;124m'\u001b[39m:[\u001b[38;5;241m9\u001b[39m, \u001b[38;5;241m11\u001b[39m, \u001b[38;5;241m13\u001b[39m, \u001b[38;5;241m15\u001b[39m, \u001b[38;5;241m17\u001b[39m]}]\n\u001b[1;32m----> 2\u001b[0m search \u001b[38;5;241m=\u001b[39m \u001b[43mGridSearchCV\u001b[49m(estimator \u001b[38;5;241m=\u001b[39m rf, param_grid \u001b[38;5;241m=\u001b[39m parameters, scoring \u001b[38;5;241m=\u001b[39m \u001b[38;5;124m'\u001b[39m\u001b[38;5;124mr2\u001b[39m\u001b[38;5;124m'\u001b[39m, cv \u001b[38;5;241m=\u001b[39m \u001b[38;5;241m4\u001b[39m)\n\u001b[0;32m      3\u001b[0m search \u001b[38;5;241m=\u001b[39m search\u001b[38;5;241m.\u001b[39mfit(X_train, y_train)\n",
      "\u001b[1;31mNameError\u001b[0m: name 'GridSearchCV' is not defined"
     ]
    }
   ],
   "source": [
    "parameters = [{'max_samples':[0.7, 0.77, 0.85, 0.92, 1], 'max_depth':[9, 11, 13, 15, 17]}]\n",
    "search = GridSearchCV(estimator = rf, param_grid = parameters, scoring = 'r2', cv = 4)\n",
    "search = search.fit(X_train, y_train)"
   ]
  },
  {
   "cell_type": "code",
   "execution_count": 187,
   "metadata": {
    "execution": {
     "iopub.execute_input": "2024-10-13T05:40:26.935261Z",
     "iopub.status.busy": "2024-10-13T05:40:26.934850Z",
     "iopub.status.idle": "2024-10-13T05:40:26.941341Z",
     "shell.execute_reply": "2024-10-13T05:40:26.940132Z",
     "shell.execute_reply.started": "2024-10-13T05:40:26.935214Z"
    },
    "trusted": true
   },
   "outputs": [
    {
     "name": "stdout",
     "output_type": "stream",
     "text": [
      "0.840050618951592\n",
      "{'max_depth': 11, 'max_samples': 0.92}\n"
     ]
    }
   ],
   "source": [
    "print(search.best_score_)\n",
    "print(search.best_params_)"
   ]
  },
  {
   "cell_type": "code",
   "execution_count": 23,
   "metadata": {
    "execution": {
     "iopub.execute_input": "2024-10-13T05:42:03.534993Z",
     "iopub.status.busy": "2024-10-13T05:42:03.533993Z",
     "iopub.status.idle": "2024-10-13T05:42:03.918388Z",
     "shell.execute_reply": "2024-10-13T05:42:03.917005Z",
     "shell.execute_reply.started": "2024-10-13T05:42:03.534944Z"
    },
    "trusted": true
   },
   "outputs": [
    {
     "ename": "NameError",
     "evalue": "name 'RandomForestRegressor' is not defined",
     "output_type": "error",
     "traceback": [
      "\u001b[1;31m---------------------------------------------------------------------------\u001b[0m",
      "\u001b[1;31mNameError\u001b[0m                                 Traceback (most recent call last)",
      "Cell \u001b[1;32mIn[23], line 1\u001b[0m\n\u001b[1;32m----> 1\u001b[0m rf \u001b[38;5;241m=\u001b[39m \u001b[43mRandomForestRegressor\u001b[49m(max_samples \u001b[38;5;241m=\u001b[39m \u001b[38;5;241m0.92\u001b[39m, max_depth\u001b[38;5;241m=\u001b[39m \u001b[38;5;241m11\u001b[39m)\n\u001b[0;32m      2\u001b[0m rf\u001b[38;5;241m.\u001b[39mfit(X_train, y_train)\n\u001b[0;32m      3\u001b[0m rf_pred \u001b[38;5;241m=\u001b[39m rf\u001b[38;5;241m.\u001b[39mpredict(X_test)\n",
      "\u001b[1;31mNameError\u001b[0m: name 'RandomForestRegressor' is not defined"
     ]
    }
   ],
   "source": [
    "rf = RandomForestRegressor(max_samples = 0.92, max_depth= 11)\n",
    "rf.fit(X_train, y_train)\n",
    "rf_pred = rf.predict(X_test)\n",
    "print('R2 Score', r2_score(y_test, rf_pred))\n",
    "print('RMSE', np.sqrt(mean_squared_error(y_test, rf_pred)))"
   ]
  },
  {
   "cell_type": "code",
   "execution_count": 189,
   "metadata": {
    "execution": {
     "iopub.execute_input": "2024-10-13T05:40:27.383890Z",
     "iopub.status.busy": "2024-10-13T05:40:27.382889Z",
     "iopub.status.idle": "2024-10-13T05:40:27.672667Z",
     "shell.execute_reply": "2024-10-13T05:40:27.671107Z",
     "shell.execute_reply.started": "2024-10-13T05:40:27.383843Z"
    },
    "trusted": true
   },
   "outputs": [
    {
     "name": "stdout",
     "output_type": "stream",
     "text": [
      "R2 Score 0.8604030754941605\n",
      "RMSE 0.19718401759011317\n"
     ]
    }
   ],
   "source": [
    "from sklearn.ensemble import GradientBoostingRegressor\n",
    "\n",
    "boost = GradientBoostingRegressor(n_estimators = 250)\n",
    "boost.fit(X_train, y_train)\n",
    "boost_pred = boost.predict(X_test)\n",
    "\n",
    "print('R2 Score', r2_score(y_test, boost_pred))\n",
    "print('RMSE', np.sqrt(mean_squared_error(y_test, boost_pred)))"
   ]
  },
  {
   "cell_type": "markdown",
   "metadata": {},
   "source": [
    "## That's it!"
   ]
  },
  {
   "cell_type": "markdown",
   "metadata": {},
   "source": [
    "I hope you liked my notebook. Please feel free to comment if you can suggest some changes to improve the notebook. That will be a great help. Thank you!"
   ]
  }
 ],
 "metadata": {
  "kaggle": {
   "accelerator": "none",
   "dataSources": [
    {
     "datasetId": 3234210,
     "sourceId": 5625277,
     "sourceType": "datasetVersion"
    }
   ],
   "dockerImageVersionId": 30786,
   "isGpuEnabled": false,
   "isInternetEnabled": true,
   "language": "python",
   "sourceType": "notebook"
  },
  "kernelspec": {
   "display_name": "Python 3",
   "language": "python",
   "name": "python3"
  },
  "language_info": {
   "codemirror_mode": {
    "name": "ipython",
    "version": 3
   },
   "file_extension": ".py",
   "mimetype": "text/x-python",
   "name": "python",
   "nbconvert_exporter": "python",
   "pygments_lexer": "ipython3",
   "version": "3.13.0"
  }
 },
 "nbformat": 4,
 "nbformat_minor": 4
}
